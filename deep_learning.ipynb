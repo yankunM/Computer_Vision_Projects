{
  "nbformat": 4,
  "nbformat_minor": 0,
  "metadata": {
    "accelerator": "GPU",
    "anaconda-cloud": {},
    "colab": {
      "provenance": [],
      "collapsed_sections": [
        "JGA-K6QzYYMR",
        "5xapgMQ8Kmk_",
        "WAwT2eaeLrh1",
        "7hyczdrGM2qD"
      ]
    },
    "kernelspec": {
      "display_name": "Python 3",
      "language": "python",
      "name": "python3"
    },
    "language_info": {
      "codemirror_mode": {
        "name": "ipython",
        "version": 3
      },
      "file_extension": ".py",
      "mimetype": "text/x-python",
      "name": "python",
      "nbconvert_exporter": "python",
      "pygments_lexer": "ipython3",
      "version": "3.7.6"
    },
    "widgets": {
      "application/vnd.jupyter.widget-state+json": {
        "bbc3e8b6cdc344b29d03fae0ee33c306": {
          "model_module": "@jupyter-widgets/controls",
          "model_name": "HBoxModel",
          "model_module_version": "1.5.0",
          "state": {
            "_dom_classes": [],
            "_model_module": "@jupyter-widgets/controls",
            "_model_module_version": "1.5.0",
            "_model_name": "HBoxModel",
            "_view_count": null,
            "_view_module": "@jupyter-widgets/controls",
            "_view_module_version": "1.5.0",
            "_view_name": "HBoxView",
            "box_style": "",
            "children": [
              "IPY_MODEL_2f68c481e453403db737d2d5ae06929f",
              "IPY_MODEL_37994498333e41859cbd14c273ad327a",
              "IPY_MODEL_74b3d9a195cc4bc8b28344007435e354"
            ],
            "layout": "IPY_MODEL_7b2637a1f8364a69b99b2f695436d77c"
          }
        },
        "2f68c481e453403db737d2d5ae06929f": {
          "model_module": "@jupyter-widgets/controls",
          "model_name": "HTMLModel",
          "model_module_version": "1.5.0",
          "state": {
            "_dom_classes": [],
            "_model_module": "@jupyter-widgets/controls",
            "_model_module_version": "1.5.0",
            "_model_name": "HTMLModel",
            "_view_count": null,
            "_view_module": "@jupyter-widgets/controls",
            "_view_module_version": "1.5.0",
            "_view_name": "HTMLView",
            "description": "",
            "description_tooltip": null,
            "layout": "IPY_MODEL_293f633ef0e84731bcb7dc4edea751af",
            "placeholder": "​",
            "style": "IPY_MODEL_7b0cca8266a34102be9c6e92522c88f0",
            "value": "100%"
          }
        },
        "37994498333e41859cbd14c273ad327a": {
          "model_module": "@jupyter-widgets/controls",
          "model_name": "FloatProgressModel",
          "model_module_version": "1.5.0",
          "state": {
            "_dom_classes": [],
            "_model_module": "@jupyter-widgets/controls",
            "_model_module_version": "1.5.0",
            "_model_name": "FloatProgressModel",
            "_view_count": null,
            "_view_module": "@jupyter-widgets/controls",
            "_view_module_version": "1.5.0",
            "_view_name": "ProgressView",
            "bar_style": "success",
            "description": "",
            "description_tooltip": null,
            "layout": "IPY_MODEL_a6ec23b9b663400aaa4f9486d32c7d40",
            "max": 244408911,
            "min": 0,
            "orientation": "horizontal",
            "style": "IPY_MODEL_d931bb5318304742b6f038e6c4ba879b",
            "value": 244408911
          }
        },
        "74b3d9a195cc4bc8b28344007435e354": {
          "model_module": "@jupyter-widgets/controls",
          "model_name": "HTMLModel",
          "model_module_version": "1.5.0",
          "state": {
            "_dom_classes": [],
            "_model_module": "@jupyter-widgets/controls",
            "_model_module_version": "1.5.0",
            "_model_name": "HTMLModel",
            "_view_count": null,
            "_view_module": "@jupyter-widgets/controls",
            "_view_module_version": "1.5.0",
            "_view_name": "HTMLView",
            "description": "",
            "description_tooltip": null,
            "layout": "IPY_MODEL_5586b9b3742a4ae1b543cd3ec3289fa6",
            "placeholder": "​",
            "style": "IPY_MODEL_647048bf7532410dbad32333ba6678a9",
            "value": " 233M/233M [00:04&lt;00:00, 21.2MB/s]"
          }
        },
        "7b2637a1f8364a69b99b2f695436d77c": {
          "model_module": "@jupyter-widgets/base",
          "model_name": "LayoutModel",
          "model_module_version": "1.2.0",
          "state": {
            "_model_module": "@jupyter-widgets/base",
            "_model_module_version": "1.2.0",
            "_model_name": "LayoutModel",
            "_view_count": null,
            "_view_module": "@jupyter-widgets/base",
            "_view_module_version": "1.2.0",
            "_view_name": "LayoutView",
            "align_content": null,
            "align_items": null,
            "align_self": null,
            "border": null,
            "bottom": null,
            "display": null,
            "flex": null,
            "flex_flow": null,
            "grid_area": null,
            "grid_auto_columns": null,
            "grid_auto_flow": null,
            "grid_auto_rows": null,
            "grid_column": null,
            "grid_gap": null,
            "grid_row": null,
            "grid_template_areas": null,
            "grid_template_columns": null,
            "grid_template_rows": null,
            "height": null,
            "justify_content": null,
            "justify_items": null,
            "left": null,
            "margin": null,
            "max_height": null,
            "max_width": null,
            "min_height": null,
            "min_width": null,
            "object_fit": null,
            "object_position": null,
            "order": null,
            "overflow": null,
            "overflow_x": null,
            "overflow_y": null,
            "padding": null,
            "right": null,
            "top": null,
            "visibility": null,
            "width": null
          }
        },
        "293f633ef0e84731bcb7dc4edea751af": {
          "model_module": "@jupyter-widgets/base",
          "model_name": "LayoutModel",
          "model_module_version": "1.2.0",
          "state": {
            "_model_module": "@jupyter-widgets/base",
            "_model_module_version": "1.2.0",
            "_model_name": "LayoutModel",
            "_view_count": null,
            "_view_module": "@jupyter-widgets/base",
            "_view_module_version": "1.2.0",
            "_view_name": "LayoutView",
            "align_content": null,
            "align_items": null,
            "align_self": null,
            "border": null,
            "bottom": null,
            "display": null,
            "flex": null,
            "flex_flow": null,
            "grid_area": null,
            "grid_auto_columns": null,
            "grid_auto_flow": null,
            "grid_auto_rows": null,
            "grid_column": null,
            "grid_gap": null,
            "grid_row": null,
            "grid_template_areas": null,
            "grid_template_columns": null,
            "grid_template_rows": null,
            "height": null,
            "justify_content": null,
            "justify_items": null,
            "left": null,
            "margin": null,
            "max_height": null,
            "max_width": null,
            "min_height": null,
            "min_width": null,
            "object_fit": null,
            "object_position": null,
            "order": null,
            "overflow": null,
            "overflow_x": null,
            "overflow_y": null,
            "padding": null,
            "right": null,
            "top": null,
            "visibility": null,
            "width": null
          }
        },
        "7b0cca8266a34102be9c6e92522c88f0": {
          "model_module": "@jupyter-widgets/controls",
          "model_name": "DescriptionStyleModel",
          "model_module_version": "1.5.0",
          "state": {
            "_model_module": "@jupyter-widgets/controls",
            "_model_module_version": "1.5.0",
            "_model_name": "DescriptionStyleModel",
            "_view_count": null,
            "_view_module": "@jupyter-widgets/base",
            "_view_module_version": "1.2.0",
            "_view_name": "StyleView",
            "description_width": ""
          }
        },
        "a6ec23b9b663400aaa4f9486d32c7d40": {
          "model_module": "@jupyter-widgets/base",
          "model_name": "LayoutModel",
          "model_module_version": "1.2.0",
          "state": {
            "_model_module": "@jupyter-widgets/base",
            "_model_module_version": "1.2.0",
            "_model_name": "LayoutModel",
            "_view_count": null,
            "_view_module": "@jupyter-widgets/base",
            "_view_module_version": "1.2.0",
            "_view_name": "LayoutView",
            "align_content": null,
            "align_items": null,
            "align_self": null,
            "border": null,
            "bottom": null,
            "display": null,
            "flex": null,
            "flex_flow": null,
            "grid_area": null,
            "grid_auto_columns": null,
            "grid_auto_flow": null,
            "grid_auto_rows": null,
            "grid_column": null,
            "grid_gap": null,
            "grid_row": null,
            "grid_template_areas": null,
            "grid_template_columns": null,
            "grid_template_rows": null,
            "height": null,
            "justify_content": null,
            "justify_items": null,
            "left": null,
            "margin": null,
            "max_height": null,
            "max_width": null,
            "min_height": null,
            "min_width": null,
            "object_fit": null,
            "object_position": null,
            "order": null,
            "overflow": null,
            "overflow_x": null,
            "overflow_y": null,
            "padding": null,
            "right": null,
            "top": null,
            "visibility": null,
            "width": null
          }
        },
        "d931bb5318304742b6f038e6c4ba879b": {
          "model_module": "@jupyter-widgets/controls",
          "model_name": "ProgressStyleModel",
          "model_module_version": "1.5.0",
          "state": {
            "_model_module": "@jupyter-widgets/controls",
            "_model_module_version": "1.5.0",
            "_model_name": "ProgressStyleModel",
            "_view_count": null,
            "_view_module": "@jupyter-widgets/base",
            "_view_module_version": "1.2.0",
            "_view_name": "StyleView",
            "bar_color": null,
            "description_width": ""
          }
        },
        "5586b9b3742a4ae1b543cd3ec3289fa6": {
          "model_module": "@jupyter-widgets/base",
          "model_name": "LayoutModel",
          "model_module_version": "1.2.0",
          "state": {
            "_model_module": "@jupyter-widgets/base",
            "_model_module_version": "1.2.0",
            "_model_name": "LayoutModel",
            "_view_count": null,
            "_view_module": "@jupyter-widgets/base",
            "_view_module_version": "1.2.0",
            "_view_name": "LayoutView",
            "align_content": null,
            "align_items": null,
            "align_self": null,
            "border": null,
            "bottom": null,
            "display": null,
            "flex": null,
            "flex_flow": null,
            "grid_area": null,
            "grid_auto_columns": null,
            "grid_auto_flow": null,
            "grid_auto_rows": null,
            "grid_column": null,
            "grid_gap": null,
            "grid_row": null,
            "grid_template_areas": null,
            "grid_template_columns": null,
            "grid_template_rows": null,
            "height": null,
            "justify_content": null,
            "justify_items": null,
            "left": null,
            "margin": null,
            "max_height": null,
            "max_width": null,
            "min_height": null,
            "min_width": null,
            "object_fit": null,
            "object_position": null,
            "order": null,
            "overflow": null,
            "overflow_x": null,
            "overflow_y": null,
            "padding": null,
            "right": null,
            "top": null,
            "visibility": null,
            "width": null
          }
        },
        "647048bf7532410dbad32333ba6678a9": {
          "model_module": "@jupyter-widgets/controls",
          "model_name": "DescriptionStyleModel",
          "model_module_version": "1.5.0",
          "state": {
            "_model_module": "@jupyter-widgets/controls",
            "_model_module_version": "1.5.0",
            "_model_name": "DescriptionStyleModel",
            "_view_count": null,
            "_view_module": "@jupyter-widgets/base",
            "_view_module_version": "1.2.0",
            "_view_name": "StyleView",
            "description_width": ""
          }
        },
        "398f2e232a4d4d4d8707c828a3e2a298": {
          "model_module": "@jupyter-widgets/controls",
          "model_name": "HBoxModel",
          "model_module_version": "1.5.0",
          "state": {
            "_dom_classes": [],
            "_model_module": "@jupyter-widgets/controls",
            "_model_module_version": "1.5.0",
            "_model_name": "HBoxModel",
            "_view_count": null,
            "_view_module": "@jupyter-widgets/controls",
            "_view_module_version": "1.5.0",
            "_view_name": "HBoxView",
            "box_style": "",
            "children": [
              "IPY_MODEL_d62a3df9e1ff417f883c3cfc3d0adeb4",
              "IPY_MODEL_9e24db5d67db45d28bd60b338a3c0e3c",
              "IPY_MODEL_2a119d11e5a643a39c0ee302a60346f0"
            ],
            "layout": "IPY_MODEL_68c866d90c5342db8e4b6f77c75b3488"
          }
        },
        "d62a3df9e1ff417f883c3cfc3d0adeb4": {
          "model_module": "@jupyter-widgets/controls",
          "model_name": "HTMLModel",
          "model_module_version": "1.5.0",
          "state": {
            "_dom_classes": [],
            "_model_module": "@jupyter-widgets/controls",
            "_model_module_version": "1.5.0",
            "_model_name": "HTMLModel",
            "_view_count": null,
            "_view_module": "@jupyter-widgets/controls",
            "_view_module_version": "1.5.0",
            "_view_name": "HTMLView",
            "description": "",
            "description_tooltip": null,
            "layout": "IPY_MODEL_db2969711e0246e9babb9d8b2369055f",
            "placeholder": "​",
            "style": "IPY_MODEL_1291de78c0a148a3acce3200b34f4fb0",
            "value": "100%"
          }
        },
        "9e24db5d67db45d28bd60b338a3c0e3c": {
          "model_module": "@jupyter-widgets/controls",
          "model_name": "FloatProgressModel",
          "model_module_version": "1.5.0",
          "state": {
            "_dom_classes": [],
            "_model_module": "@jupyter-widgets/controls",
            "_model_module_version": "1.5.0",
            "_model_name": "FloatProgressModel",
            "_view_count": null,
            "_view_module": "@jupyter-widgets/controls",
            "_view_module_version": "1.5.0",
            "_view_name": "ProgressView",
            "bar_style": "success",
            "description": "",
            "description_tooltip": null,
            "layout": "IPY_MODEL_da0f824d06ec4313838f4682983984c5",
            "max": 553433881,
            "min": 0,
            "orientation": "horizontal",
            "style": "IPY_MODEL_b9be542209404e69a0a7ccbc3cb8d1a2",
            "value": 553433881
          }
        },
        "2a119d11e5a643a39c0ee302a60346f0": {
          "model_module": "@jupyter-widgets/controls",
          "model_name": "HTMLModel",
          "model_module_version": "1.5.0",
          "state": {
            "_dom_classes": [],
            "_model_module": "@jupyter-widgets/controls",
            "_model_module_version": "1.5.0",
            "_model_name": "HTMLModel",
            "_view_count": null,
            "_view_module": "@jupyter-widgets/controls",
            "_view_module_version": "1.5.0",
            "_view_name": "HTMLView",
            "description": "",
            "description_tooltip": null,
            "layout": "IPY_MODEL_6168475cb96941e8a78145a7b0898d7d",
            "placeholder": "​",
            "style": "IPY_MODEL_07987cb5f744467884e219770904f1df",
            "value": " 528M/528M [00:09&lt;00:00, 74.9MB/s]"
          }
        },
        "68c866d90c5342db8e4b6f77c75b3488": {
          "model_module": "@jupyter-widgets/base",
          "model_name": "LayoutModel",
          "model_module_version": "1.2.0",
          "state": {
            "_model_module": "@jupyter-widgets/base",
            "_model_module_version": "1.2.0",
            "_model_name": "LayoutModel",
            "_view_count": null,
            "_view_module": "@jupyter-widgets/base",
            "_view_module_version": "1.2.0",
            "_view_name": "LayoutView",
            "align_content": null,
            "align_items": null,
            "align_self": null,
            "border": null,
            "bottom": null,
            "display": null,
            "flex": null,
            "flex_flow": null,
            "grid_area": null,
            "grid_auto_columns": null,
            "grid_auto_flow": null,
            "grid_auto_rows": null,
            "grid_column": null,
            "grid_gap": null,
            "grid_row": null,
            "grid_template_areas": null,
            "grid_template_columns": null,
            "grid_template_rows": null,
            "height": null,
            "justify_content": null,
            "justify_items": null,
            "left": null,
            "margin": null,
            "max_height": null,
            "max_width": null,
            "min_height": null,
            "min_width": null,
            "object_fit": null,
            "object_position": null,
            "order": null,
            "overflow": null,
            "overflow_x": null,
            "overflow_y": null,
            "padding": null,
            "right": null,
            "top": null,
            "visibility": null,
            "width": null
          }
        },
        "db2969711e0246e9babb9d8b2369055f": {
          "model_module": "@jupyter-widgets/base",
          "model_name": "LayoutModel",
          "model_module_version": "1.2.0",
          "state": {
            "_model_module": "@jupyter-widgets/base",
            "_model_module_version": "1.2.0",
            "_model_name": "LayoutModel",
            "_view_count": null,
            "_view_module": "@jupyter-widgets/base",
            "_view_module_version": "1.2.0",
            "_view_name": "LayoutView",
            "align_content": null,
            "align_items": null,
            "align_self": null,
            "border": null,
            "bottom": null,
            "display": null,
            "flex": null,
            "flex_flow": null,
            "grid_area": null,
            "grid_auto_columns": null,
            "grid_auto_flow": null,
            "grid_auto_rows": null,
            "grid_column": null,
            "grid_gap": null,
            "grid_row": null,
            "grid_template_areas": null,
            "grid_template_columns": null,
            "grid_template_rows": null,
            "height": null,
            "justify_content": null,
            "justify_items": null,
            "left": null,
            "margin": null,
            "max_height": null,
            "max_width": null,
            "min_height": null,
            "min_width": null,
            "object_fit": null,
            "object_position": null,
            "order": null,
            "overflow": null,
            "overflow_x": null,
            "overflow_y": null,
            "padding": null,
            "right": null,
            "top": null,
            "visibility": null,
            "width": null
          }
        },
        "1291de78c0a148a3acce3200b34f4fb0": {
          "model_module": "@jupyter-widgets/controls",
          "model_name": "DescriptionStyleModel",
          "model_module_version": "1.5.0",
          "state": {
            "_model_module": "@jupyter-widgets/controls",
            "_model_module_version": "1.5.0",
            "_model_name": "DescriptionStyleModel",
            "_view_count": null,
            "_view_module": "@jupyter-widgets/base",
            "_view_module_version": "1.2.0",
            "_view_name": "StyleView",
            "description_width": ""
          }
        },
        "da0f824d06ec4313838f4682983984c5": {
          "model_module": "@jupyter-widgets/base",
          "model_name": "LayoutModel",
          "model_module_version": "1.2.0",
          "state": {
            "_model_module": "@jupyter-widgets/base",
            "_model_module_version": "1.2.0",
            "_model_name": "LayoutModel",
            "_view_count": null,
            "_view_module": "@jupyter-widgets/base",
            "_view_module_version": "1.2.0",
            "_view_name": "LayoutView",
            "align_content": null,
            "align_items": null,
            "align_self": null,
            "border": null,
            "bottom": null,
            "display": null,
            "flex": null,
            "flex_flow": null,
            "grid_area": null,
            "grid_auto_columns": null,
            "grid_auto_flow": null,
            "grid_auto_rows": null,
            "grid_column": null,
            "grid_gap": null,
            "grid_row": null,
            "grid_template_areas": null,
            "grid_template_columns": null,
            "grid_template_rows": null,
            "height": null,
            "justify_content": null,
            "justify_items": null,
            "left": null,
            "margin": null,
            "max_height": null,
            "max_width": null,
            "min_height": null,
            "min_width": null,
            "object_fit": null,
            "object_position": null,
            "order": null,
            "overflow": null,
            "overflow_x": null,
            "overflow_y": null,
            "padding": null,
            "right": null,
            "top": null,
            "visibility": null,
            "width": null
          }
        },
        "b9be542209404e69a0a7ccbc3cb8d1a2": {
          "model_module": "@jupyter-widgets/controls",
          "model_name": "ProgressStyleModel",
          "model_module_version": "1.5.0",
          "state": {
            "_model_module": "@jupyter-widgets/controls",
            "_model_module_version": "1.5.0",
            "_model_name": "ProgressStyleModel",
            "_view_count": null,
            "_view_module": "@jupyter-widgets/base",
            "_view_module_version": "1.2.0",
            "_view_name": "StyleView",
            "bar_color": null,
            "description_width": ""
          }
        },
        "6168475cb96941e8a78145a7b0898d7d": {
          "model_module": "@jupyter-widgets/base",
          "model_name": "LayoutModel",
          "model_module_version": "1.2.0",
          "state": {
            "_model_module": "@jupyter-widgets/base",
            "_model_module_version": "1.2.0",
            "_model_name": "LayoutModel",
            "_view_count": null,
            "_view_module": "@jupyter-widgets/base",
            "_view_module_version": "1.2.0",
            "_view_name": "LayoutView",
            "align_content": null,
            "align_items": null,
            "align_self": null,
            "border": null,
            "bottom": null,
            "display": null,
            "flex": null,
            "flex_flow": null,
            "grid_area": null,
            "grid_auto_columns": null,
            "grid_auto_flow": null,
            "grid_auto_rows": null,
            "grid_column": null,
            "grid_gap": null,
            "grid_row": null,
            "grid_template_areas": null,
            "grid_template_columns": null,
            "grid_template_rows": null,
            "height": null,
            "justify_content": null,
            "justify_items": null,
            "left": null,
            "margin": null,
            "max_height": null,
            "max_width": null,
            "min_height": null,
            "min_width": null,
            "object_fit": null,
            "object_position": null,
            "order": null,
            "overflow": null,
            "overflow_x": null,
            "overflow_y": null,
            "padding": null,
            "right": null,
            "top": null,
            "visibility": null,
            "width": null
          }
        },
        "07987cb5f744467884e219770904f1df": {
          "model_module": "@jupyter-widgets/controls",
          "model_name": "DescriptionStyleModel",
          "model_module_version": "1.5.0",
          "state": {
            "_model_module": "@jupyter-widgets/controls",
            "_model_module_version": "1.5.0",
            "_model_name": "DescriptionStyleModel",
            "_view_count": null,
            "_view_module": "@jupyter-widgets/base",
            "_view_module_version": "1.2.0",
            "_view_name": "StyleView",
            "description_width": ""
          }
        }
      }
    }
  },
  "cells": [
    {
      "cell_type": "markdown",
      "metadata": {
        "id": "XSfnuObtYYMH"
      },
      "source": [
        "## Description\n",
        "---\n",
        "This project is an introduction to deep learning tools for computer vision. You will design and train deep convolutional networks for scene recognition using [PyTorch](http://pytorch.org). You can visualize the\n",
        "structure of the network with [mNeuron] (http://vision03.csail.mit.edu/cnn_art/index.html)\n",
        "\n",
        "Remember Homework 3: Scene recognition with bag of words. You worked hard to design a bag of features representations that achieved 60% to 70% accuracy (most likely) on 16-way scene classification. We're going to attack the same task with deep learning and get higher accuracy. Training from scratch won't work quite as well as homework 3 due to the insufficient amount of data, fine-tuning an existing network will work much better than homework 3.\n",
        "\n",
        "In Problem 1 of the project you will train a deep convolutional network from scratch to recognize scenes. The starter codes gives you methods to load data and display them. You will need to define a simple network architecture and add jittering, normalization, and regularization to increase recognition accuracy to 50, 60, or perhaps 70%. Unfortunately, we only have 2,400 training examples so it doesn't seem possible to train a network from scratch which outperforms hand-crafted features\n",
        "\n",
        "For Problem 2 you will instead fine-tune a pre-trained deep network to achieve about 85% accuracy on the task. We will use the pretrained AlexNet network which was not trained to recognize scenes at all. \n",
        "\n",
        "These two approaches represent the most common approaches to recognition problems in computer vision today -- train a deep network from scratch if you have enough data (it's not always obvious whether or not you do), and if you cannot then instead fine-tune a pre-trained network.\n",
        "\n",
        "There are 2 problems in this homework with a total of 110 points including 10 bonus points. Be sure to read **Submission Guidelines** below. They are important. For the problems requiring text descriptions, you might want to add a markdown block for that.\n",
        "\n",
        "## Dataset\n",
        "---\n",
        "Save the [dataset(click me)](https://drive.google.com/open?id=1NWC3TMsXSWN2TeoYMCjhf2N1b-WRDh-M) into your working folder in your Google Drive for this homework. <br>\n",
        "Under your root folder, there should be a folder named \"data\" (i.e. XXX/Surname_Givenname_SBUID/data) containing the images.\n",
        "**Do not upload** the data subfolder before submitting on blackboard due to size limit. There should be only one .ipynb file under your root folder Surname_Givenname_SBUID.\n",
        "\n",
        "## Some Tutorials (PyTorch)\n",
        "---\n",
        "- You will be using PyTorch for deep learning toolbox (follow the [link](http://pytorch.org) for installation).\n",
        "- For PyTorch beginners, please read this [tutorial](http://pytorch.org/tutorials/beginner/deep_learning_60min_blitz.html) before doing your homework.\n",
        "- Feel free to study more tutorials at http://pytorch.org/tutorials/.\n",
        "- Find cool visualization here at http://playground.tensorflow.org.\n",
        "\n",
        "\n",
        "## Starter Code\n",
        "---\n",
        "In the starter code, you are provided with a function that loads data into minibatches for training and testing in PyTorch."
      ]
    },
    {
      "cell_type": "code",
      "metadata": {
        "id": "0UA6WFgcYYMI"
      },
      "source": [
        "# import packages here\n",
        "import cv2\n",
        "import numpy as np\n",
        "import matplotlib.pyplot as plt\n",
        "import glob\n",
        "import random \n",
        "import time\n",
        "\n",
        "import torch\n",
        "import torchvision\n",
        "import torchvision.transforms as transforms\n",
        "from torchvision import datasets, models, transforms\n",
        "\n",
        "from torch.autograd import Variable\n",
        "import torch.nn as nn\n",
        "import torch.nn.functional as F\n",
        "\n",
        "import torch.optim as optim\n",
        "import os\n",
        "from sklearn import svm\n",
        "from sklearn.metrics import confusion_matrix\n",
        "from sklearn.metrics import accuracy_score"
      ],
      "execution_count": null,
      "outputs": []
    },
    {
      "cell_type": "code",
      "metadata": {
        "id": "L7T72O-1ks-a",
        "colab": {
          "base_uri": "https://localhost:8080/"
        },
        "outputId": "1d92035e-3060-4ef3-b040-1e8da70bdef6"
      },
      "source": [
        "# Mount your google drive where you've saved your assignment folder\n",
        "from google.colab import drive\n",
        "drive.mount('/content/gdrive')"
      ],
      "execution_count": null,
      "outputs": [
        {
          "output_type": "stream",
          "name": "stdout",
          "text": [
            "Mounted at /content/gdrive\n"
          ]
        }
      ]
    },
    {
      "cell_type": "code",
      "metadata": {
        "id": "xIT3WIuykrg0",
        "colab": {
          "base_uri": "https://localhost:8080/"
        },
        "outputId": "b68be762-2037-40c4-c9c9-8feb4327640c"
      },
      "source": [
        "# Set your working directory (in your google drive) \n",
        "#   change it to your specific homework directory.\n",
        "%cd '/content/gdrive/MyDrive/Meng_Alex_114477057_hw5'"
      ],
      "execution_count": null,
      "outputs": [
        {
          "output_type": "stream",
          "name": "stdout",
          "text": [
            "/content/gdrive/MyDrive/Meng_Alex_114477057_hw5\n"
          ]
        }
      ]
    },
    {
      "cell_type": "code",
      "metadata": {
        "id": "0NxnBcUqk_9B",
        "colab": {
          "base_uri": "https://localhost:8080/"
        },
        "outputId": "dbb9b2db-a88f-4d38-c351-9df3c41c1ca9"
      },
      "source": [
        "# ==========================================\n",
        "#    Load Training Data and Testing Data\n",
        "# ==========================================\n",
        "class_names = [name[13:] for name in glob.glob('./data/train/*')]\n",
        "class_names = dict(zip(range(len(class_names)), class_names))\n",
        "print(\"class_names: %s \" % class_names)\n",
        "n_train_samples = 150\n",
        "n_test_samples = 50\n",
        "\n",
        "\n",
        "def img_norm(img):\n",
        "  #\n",
        "  # Write your code here\n",
        "  # normalize img pixels to [-1, 1]\n",
        "  result = cv2.normalize(img, None, alpha=-1, beta=1, norm_type=cv2.NORM_MINMAX, dtype=cv2.CV_32F)\n",
        "  return result\n",
        "\n",
        "def load_dataset(path, img_size, num_per_class=-1, batch_num=1, shuffle=False, augment=False, is_color=False,\n",
        "                rotate_90=False, zero_centered=False):\n",
        "    \n",
        "    data = []\n",
        "    labels = []\n",
        "    \n",
        "    if is_color:\n",
        "        channel_num = 3\n",
        "    else:\n",
        "        channel_num = 1\n",
        "        \n",
        "    # read images and resizing\n",
        "    for id, class_name in class_names.items():\n",
        "        print(\"Loading images from class: %s\" % id)\n",
        "        img_path_class = glob.glob(path + class_name + '/*.jpg')\n",
        "        if num_per_class > 0:\n",
        "            img_path_class = img_path_class[:num_per_class]\n",
        "        labels.extend([id]*len(img_path_class))\n",
        "        for filename in img_path_class:\n",
        "            if is_color:\n",
        "                img = cv2.imread(filename)\n",
        "            else:\n",
        "                img = cv2.imread(filename, 0)\n",
        "            \n",
        "            # resize the image\n",
        "            img = cv2.resize(img, img_size, cv2.INTER_LINEAR)\n",
        "            \n",
        "            if is_color:\n",
        "                img = np.transpose(img, [2, 0, 1])\n",
        "            \n",
        "            # norm pixel values to [-1, 1]\n",
        "            data.append(img_norm(img))\n",
        "            \n",
        "    #\n",
        "    # Write your Data Augmentation code here\n",
        "    # mirroring\n",
        "    #\n",
        "    if augment:\n",
        "      print(\"Data Augmentation by mirroring!\")\n",
        "      mirrored_img = []\n",
        "      mirrored_lab = []\n",
        "      for index, img in enumerate(data):\n",
        "        mirrored = cv2.flip(img, 1)\n",
        "        mirrored_img.append(mirrored)\n",
        "        mirrored_lab.append(labels[index])\n",
        "    \n",
        "      data.extend(mirrored_img)\n",
        "      labels.extend(mirrored_lab)\n",
        "\n",
        "    #\n",
        "    # Rotation by 90 degrees\n",
        "    #\n",
        "    if rotate_90:\n",
        "      print(\"Rotation by 90 degreed counter-clockwise!\")\n",
        "      mirrored_img = []\n",
        "      mirrored_lab = []\n",
        "      for index, img in enumerate(data):\n",
        "        rows, cols = img.shape\n",
        "        Rot_M = cv2.getRotationMatrix2D((cols/2, rows/2), 90, 1)\n",
        "        rotated_img = cv2.warpAffine(img, Rot_M, (cols, rows))\n",
        "        mirrored_img.append(rotated_img)\n",
        "        mirrored_lab.append(labels[index])\n",
        "      \n",
        "      data.extend(mirrored_img)\n",
        "      labels.extend(mirrored_lab)\n",
        "\n",
        "    #\n",
        "    # Write your Data Normalization code here\n",
        "    # norm data to zero-centered\n",
        "    #\n",
        "    if zero_centered:\n",
        "      mean = np.mean(data, axis=0)\n",
        "      for index, img in enumerate(data):\n",
        "        data[index] = img - mean\n",
        "     \n",
        "    # randomly permute (this step is important for training)\n",
        "    if shuffle:\n",
        "        bundle = list(zip(data, labels))\n",
        "        random.shuffle(bundle)\n",
        "        data, labels = zip(*bundle)\n",
        "    \n",
        "    # divide data into minibatches of TorchTensors\n",
        "    if batch_num > 1:\n",
        "        batch_data = []\n",
        "        batch_labels = []\n",
        "        \n",
        "        print(len(data))\n",
        "        print(batch_num)\n",
        "        \n",
        "        for i in range(int(len(data) / batch_num)):\n",
        "            minibatch_d = data[i*batch_num: (i+1)*batch_num]\n",
        "            minibatch_d = np.reshape(minibatch_d, (batch_num, channel_num, img_size[0], img_size[1]))\n",
        "            batch_data.append(torch.from_numpy(minibatch_d))\n",
        "\n",
        "            minibatch_l = labels[i*batch_num: (i+1)*batch_num]\n",
        "            batch_labels.append(torch.LongTensor(minibatch_l))\n",
        "        data, labels = batch_data, batch_labels \n",
        "    \n",
        "    return zip(batch_data, batch_labels)"
      ],
      "execution_count": null,
      "outputs": [
        {
          "output_type": "stream",
          "name": "stdout",
          "text": [
            "class_names: {0: 'OpenCountry', 1: 'LivingRoom', 2: 'Bedroom', 3: 'Office', 4: 'InsideCity', 5: 'Suburb', 6: 'Industrial', 7: 'Kitchen', 8: 'Mountain', 9: 'Street', 10: 'Store', 11: 'TallBuilding', 12: 'Coast', 13: 'Forest', 14: 'Flower', 15: 'Highway'} \n"
          ]
        }
      ]
    },
    {
      "cell_type": "code",
      "metadata": {
        "id": "wHI2VYbDloje",
        "colab": {
          "base_uri": "https://localhost:8080/"
        },
        "outputId": "db162879-4bed-4bf6-ae25-484c43374f09"
      },
      "source": [
        "# load data into size (64, 64)\n",
        "img_size = (64, 64)\n",
        "batch_num = 50 # training sample number per batch\n",
        "\n",
        "# load training dataset\n",
        "trainloader_small = list(load_dataset('./data/train/', img_size, batch_num=batch_num, shuffle=True, \n",
        "                                      augment=True, zero_centered=True))\n",
        "train_num = len(trainloader_small)\n",
        "print(\"Finish loading %d minibatches(=%d) of training samples.\" % (train_num, batch_num))\n",
        "\n",
        "# load testing dataset\n",
        "testloader_small = list(load_dataset('./data/test/', img_size, num_per_class=50, batch_num=batch_num))\n",
        "test_num = len(testloader_small)\n",
        "print(\"Finish loading %d minibatches(=%d) of testing samples.\" % (test_num, batch_num))"
      ],
      "execution_count": null,
      "outputs": [
        {
          "output_type": "stream",
          "name": "stdout",
          "text": [
            "Loading images from class: 0\n",
            "Loading images from class: 1\n",
            "Loading images from class: 2\n",
            "Loading images from class: 3\n",
            "Loading images from class: 4\n",
            "Loading images from class: 5\n",
            "Loading images from class: 6\n",
            "Loading images from class: 7\n",
            "Loading images from class: 8\n",
            "Loading images from class: 9\n",
            "Loading images from class: 10\n",
            "Loading images from class: 11\n",
            "Loading images from class: 12\n",
            "Loading images from class: 13\n",
            "Loading images from class: 14\n",
            "Loading images from class: 15\n",
            "Data Augmentation by mirroring!\n",
            "4800\n",
            "50\n",
            "Finish loading 96 minibatches(=50) of training samples.\n",
            "Loading images from class: 0\n",
            "Loading images from class: 1\n",
            "Loading images from class: 2\n",
            "Loading images from class: 3\n",
            "Loading images from class: 4\n",
            "Loading images from class: 5\n",
            "Loading images from class: 6\n",
            "Loading images from class: 7\n",
            "Loading images from class: 8\n",
            "Loading images from class: 9\n",
            "Loading images from class: 10\n",
            "Loading images from class: 11\n",
            "Loading images from class: 12\n",
            "Loading images from class: 13\n",
            "Loading images from class: 14\n",
            "Loading images from class: 15\n",
            "400\n",
            "50\n",
            "Finish loading 8 minibatches(=50) of testing samples.\n"
          ]
        }
      ]
    },
    {
      "cell_type": "code",
      "metadata": {
        "id": "krCXjDOzlq0f",
        "colab": {
          "base_uri": "https://localhost:8080/",
          "height": 286
        },
        "outputId": "906fe707-e779-415a-db35-835a2c8f9ed1"
      },
      "source": [
        "# show some images\n",
        "def imshow(img):\n",
        "    img = img / 2 + 0.5     # unnormalize\n",
        "    npimg = img.numpy()\n",
        "    if len(npimg.shape) > 2:\n",
        "        npimg = np.transpose(img, [1, 2, 0])\n",
        "    plt.figure\n",
        "    plt.imshow(npimg, 'gray')\n",
        "    plt.show()\n",
        "img, label = trainloader_small[0][0][11][0], trainloader_small[0][1][11]\n",
        "label = int(np.array(label))\n",
        "print(class_names[label])\n",
        "imshow(img)"
      ],
      "execution_count": null,
      "outputs": [
        {
          "output_type": "stream",
          "name": "stdout",
          "text": [
            "Industrial\n"
          ]
        },
        {
          "output_type": "display_data",
          "data": {
            "text/plain": [
              "<Figure size 432x288 with 1 Axes>"
            ],
            "image/png": "[encoded data removed]"
          },
          "metadata": {
            "needs_background": "light"
          }
        }
      ]
    },
    {
      "cell_type": "markdown",
      "metadata": {
        "id": "JGA-K6QzYYMR"
      },
      "source": [
        "# Problem 1: Training a Network From Scratch\n",
        "{Part 1: 35 points} Gone are the days of hand designed features. Now we have end-to-end learning in which a highly non-linear representation is learned for our data to maximize our objective (in this case, 16-way classification accuracy). Instead of 70% accuracy we can now recognize scenes with... 25% accuracy. OK, that didn't work at all. Try to boost the accuracy by doing the following:\n",
        "\n",
        "**Data Augmentation**: We don't have enough training data, let's augment the training data.\n",
        "If you left-right flip (mirror) an image of a scene, it never changes categories. A kitchen doesn't become a forest when mirrored. This isn't true in all domains — a \"d\" becomes a \"b\" when mirrored, so you can't \"jitter\" digit recognition training data in the same way. But we can synthetically increase our amount of training data by left-right mirroring training images during the learning process.\n",
        "\n",
        "After you implement mirroring, you should notice that your training error doesn't drop as quickly. That's actually a good thing, because it means the network isn't overfitting to the 2,400 original training images as much (because it sees 4,800 training images now, although they're not as good as 4,800 truly independent samples). Because the training and test errors fall more slowly, you may need more training epochs or you may try modifying the learning rate. You should see a roughly 10% increase in accuracy by adding mirroring. You are **required** to implement mirroring as data augmentation for this part.\n",
        "\n",
        "You can try more elaborate forms of jittering -- zooming in a random amount, rotating a random amount, taking a random crop, etc. These are not required, you might want to try these in the bonus part.\n",
        "\n",
        "**Data Normalization**: The images aren't zero-centered. One simple trick which can help a lot is to subtract the mean from every image. It would arguably be more proper to only compute the mean from the training images (since the test/validation images should be strictly held out) but it won't make much of a difference. After doing this you should see another 15% or so increase in accuracy. This part is **required**.\n",
        "\n",
        "**Network Regularization**: Add dropout layer. If you train your network (especially for more than the default 30 epochs) you'll see that the training error can decrease to zero while the val top1 error hovers at 40% to 50%. The network has learned weights which can perfectly recognize the training data, but those weights don't generalize to held out test data. The best regularization would be more training data but we don't have that. Instead we will use dropout regularization.\n",
        "\n",
        "What does dropout regularization do? It randomly turns off network connections at training time to fight overfitting. This prevents a unit in one layer from relying too strongly on a single unit in the previous layer. Dropout regularization can be interpreted as simultaneously training many \"thinned\" versions of your network. At test, all connections are restored which is analogous to taking an average prediction over all of the \"thinned\" networks. You can see a more complete discussion of dropout regularization in this [paper](https://www.cs.toronto.edu/~hinton/absps/JMLRdropout.pdf).\n",
        "\n",
        "The dropout layer has only one free parameter — the dropout rate — the proportion of connections that are randomly deleted. The default of 0.5 should be fine. Insert a dropout layer between your convolutional layers. In particular, insert it directly before your last convolutional layer. Your test accuracy should increase by another 10%. Your train accuracy should decrease much more slowly. That's to be expected — you're making life much harder for the training algorithm by cutting out connections randomly. \n",
        "\n",
        "If you increase the number of training epochs (and maybe decrease the learning rate) **you should be able to achieve around 50% test accuracy**. In this part, you are **required** to add dropout layer to your network.\n",
        "\n",
        "Please give detailed descriptions of your network layout in the following format:<br>\n",
        "Data augmentation: [descriptions]<br>\n",
        "Data normalization: [descriptions]<br>\n",
        "Layer 1: [layer_type]: [Parameters]<br>\n",
        "Layer 2: [layer_type]: [Parameters]<br>\n",
        "...<br>\n",
        "Then report the final accuracy on test set and time consumed for training and testing separately.\n",
        "\n",
        "{Part 2: 15 points} Try **three techniques** taught in the class to increase the accuracy of your model. Such as increasing training data by randomly rotating training images, adding batch normalization, different activation functions (e.g., sigmoid) and model architecture modification. Note that too many layers can do you no good due to insufficient training data. Clearly describe your method and accuracy increase/decrease for each of the three techniques."
      ]
    },
    {
      "cell_type": "code",
      "metadata": {
        "id": "clXaGdwaoIL7"
      },
      "source": [
        "# ==========================================\n",
        "#       Define Network Architecture\n",
        "# ==========================================\n",
        "class ClassifierNetwork(nn.Module):\n",
        "\n",
        "    def __init__(self, num_classes, d_out):\n",
        "        super(ClassifierNetwork, self).__init__()\n",
        "        # Convolution\n",
        "        self.conv1 = nn.Conv2d(1, 32, kernel_size=3, stride=1, padding=1)\n",
        "        self.relu1 = nn.ReLU()\n",
        "        self.conv2 = nn.Conv2d(32, 64, kernel_size=3, stride=1, padding=1)\n",
        "        self.relu2 = nn.ReLU()\n",
        "        self.pool1 = torch.nn.MaxPool2d(kernel_size=2, stride=2, padding=0)\n",
        "        self.d_out = nn.Dropout(d_out)\n",
        "        self.conv3 = nn.Conv2d(64, 16, kernel_size=3, stride=1, padding=1)\n",
        "        self.relu3 = nn.ReLU()\n",
        "        self.pool2 = torch.nn.MaxPool2d(kernel_size=2, stride=2, padding=0)\n",
        "        # Fully Connected Layers\n",
        "        self.fc1 = nn.Linear(16 * 16 * 16, 64)\n",
        "        self.fc2 = nn.Linear(64, 32)\n",
        "        self.fc3 = nn.Linear(32, 16)\n",
        "\n",
        "    def forward(self, x):\n",
        "        y = self.conv1(x)\n",
        "        y = self.relu1(y)\n",
        "        y = self.conv2(y)\n",
        "        y = self.relu2(y)\n",
        "        y = self.pool1(y)\n",
        "        y = self.d_out(y)\n",
        "        y = self.conv3(y)\n",
        "        y = self.relu3(y)\n",
        "        y = self.pool2(y)\n",
        "        y = y.view(y.size(0), -1)\n",
        "        y = self.fc1(y)\n",
        "        y = self.fc2(y)\n",
        "        y = self.fc3(y)\n",
        "        return y"
      ],
      "execution_count": null,
      "outputs": []
    },
    {
      "cell_type": "code",
      "metadata": {
        "id": "sNJTDG8xoJwH",
        "colab": {
          "base_uri": "https://localhost:8080/"
        },
        "outputId": "018c5e35-f7a5-4cda-f018-2a291c005ce2"
      },
      "source": [
        "# ==========================================\n",
        "#         Optimize/Train Network\n",
        "# ==========================================\n",
        "def train(num_epochs, learning_rate, model, training_images, optimizer=None):\n",
        "  # Uses the Adam optimizer\n",
        "  if optimizer == None:\n",
        "    optimizer = optim.Adam(model.parameters(), lr=learning_rate)\n",
        "  # Cross-entropy loss function\n",
        "  criterion = nn.CrossEntropyLoss()\n",
        "  since = time.time()\n",
        "  # If GPU is used\n",
        "  if torch.cuda.is_available():\n",
        "    model = model.cuda()\n",
        "    criterion = criterion.cuda()\n",
        "\n",
        "  model.train()\n",
        "  print(model)\n",
        "  total_step = len(training_images)\n",
        "  print(total_step)\n",
        "  loss_list = []\n",
        "  acc_list = []\n",
        "  # for every epoch\n",
        "  for epoch in range(num_epochs):\n",
        "    for i, (images, labels) in enumerate(training_images):\n",
        "      if torch.cuda.is_available():\n",
        "        images, labels = images.cuda(), labels.cuda()\n",
        "      # Forward propogation\n",
        "      outputs = model(images)\n",
        "      loss = criterion(outputs, labels)\n",
        "      loss_list.append(loss.item())\n",
        "      # Backward propagation\n",
        "      optimizer.zero_grad()\n",
        "      loss.backward()\n",
        "      # Perform Adam optimization\n",
        "      optimizer.step()\n",
        "      # Keep track of accuracy\n",
        "      total = labels.size(0)\n",
        "      _, predicted = torch.max(outputs.data, 1)\n",
        "      correct = (predicted == labels).sum().item()\n",
        "      acc_list.append(correct / total)\n",
        "      # Print stats\n",
        "      if i % (total_step - 1) == 0 and i != 0:\n",
        "        print('Epoch ({}/{}), Loss: {:.4f}, Accuracy: {:.2f}%'\n",
        "              .format(epoch + 1, num_epochs, loss.item(),\n",
        "                    (correct / total) * 100))\n",
        "            \n",
        "  elapsed = time.time() - since\n",
        "  print('Train time elapsed: ', elapsed, 'seconds')\n",
        "\n",
        "\n",
        "learning_rate = 0.001\n",
        "num_epochs = 20\n",
        "d_out = 0.5\n",
        "num_classes = 16\n",
        "model = ClassifierNetwork(num_classes, d_out)\n",
        "train(num_epochs, learning_rate, model, trainloader_small)"
      ],
      "execution_count": null,
      "outputs": [
        {
          "output_type": "stream",
          "name": "stdout",
          "text": [
            "ClassifierNetwork(\n",
            "  (conv1): Conv2d(1, 32, kernel_size=(3, 3), stride=(1, 1), padding=(1, 1))\n",
            "  (relu1): ReLU()\n",
            "  (conv2): Conv2d(32, 64, kernel_size=(3, 3), stride=(1, 1), padding=(1, 1))\n",
            "  (relu2): ReLU()\n",
            "  (pool1): MaxPool2d(kernel_size=2, stride=2, padding=0, dilation=1, ceil_mode=False)\n",
            "  (d_out): Dropout(p=0.5, inplace=False)\n",
            "  (conv3): Conv2d(64, 16, kernel_size=(3, 3), stride=(1, 1), padding=(1, 1))\n",
            "  (relu3): ReLU()\n",
            "  (pool2): MaxPool2d(kernel_size=2, stride=2, padding=0, dilation=1, ceil_mode=False)\n",
            "  (fc1): Linear(in_features=4096, out_features=64, bias=True)\n",
            "  (fc2): Linear(in_features=64, out_features=32, bias=True)\n",
            "  (fc3): Linear(in_features=32, out_features=16, bias=True)\n",
            ")\n",
            "96\n",
            "Epoch (1/20), Loss: 2.3533, Accuracy: 32.00%\n",
            "Epoch (2/20), Loss: 1.7442, Accuracy: 44.00%\n",
            "Epoch (3/20), Loss: 1.3741, Accuracy: 54.00%\n",
            "Epoch (4/20), Loss: 1.1344, Accuracy: 74.00%\n",
            "Epoch (5/20), Loss: 1.0017, Accuracy: 68.00%\n",
            "Epoch (6/20), Loss: 0.8697, Accuracy: 76.00%\n",
            "Epoch (7/20), Loss: 0.7255, Accuracy: 74.00%\n",
            "Epoch (8/20), Loss: 0.6997, Accuracy: 80.00%\n",
            "Epoch (9/20), Loss: 0.4956, Accuracy: 80.00%\n",
            "Epoch (10/20), Loss: 0.4269, Accuracy: 86.00%\n",
            "Epoch (11/20), Loss: 0.3405, Accuracy: 88.00%\n",
            "Epoch (12/20), Loss: 0.1957, Accuracy: 98.00%\n",
            "Epoch (13/20), Loss: 0.2103, Accuracy: 92.00%\n",
            "Epoch (14/20), Loss: 0.1869, Accuracy: 94.00%\n",
            "Epoch (15/20), Loss: 0.2816, Accuracy: 88.00%\n",
            "Epoch (16/20), Loss: 0.1392, Accuracy: 94.00%\n",
            "Epoch (17/20), Loss: 0.0967, Accuracy: 100.00%\n",
            "Epoch (18/20), Loss: 0.2175, Accuracy: 90.00%\n",
            "Epoch (19/20), Loss: 0.2794, Accuracy: 88.00%\n",
            "Epoch (20/20), Loss: 0.0815, Accuracy: 98.00%\n",
            "Train time elapsed:  41.539337158203125 seconds\n"
          ]
        }
      ]
    },
    {
      "cell_type": "code",
      "metadata": {
        "id": "m5sadf8qoOW6",
        "colab": {
          "base_uri": "https://localhost:8080/"
        },
        "outputId": "efe433a3-cf4a-4ba4-c297-4a7347f5981f"
      },
      "source": [
        "# ==========================================\n",
        "#            Evaluating Network\n",
        "# ==========================================\n",
        "def test(model, test_images):\n",
        "  since = time.time()\n",
        "  model.eval()\n",
        "  with torch.no_grad():\n",
        "      c, t = 0, 0\n",
        "      for images, labels in test_images:\n",
        "          # Use GPU if it is avaiable\n",
        "          if torch.cuda.is_available():\n",
        "            images, labels = images.cuda(), labels.cuda()\n",
        "          outputs = model(images)\n",
        "          _, predicted = torch.max(outputs.data, 1)\n",
        "          t += labels.size(0)\n",
        "          c += (predicted == labels).sum().item()\n",
        "      print('Test Accuracy on test images: {} %'.format((c / t) * 100))\n",
        "  elapsed = time.time() - since\n",
        "  print('Test time elapsed: ', elapsed, 'seconds')\n",
        "\n",
        "#evaluate\n",
        "test(model, testloader_small)"
      ],
      "execution_count": null,
      "outputs": [
        {
          "output_type": "stream",
          "name": "stdout",
          "text": [
            "Test Accuracy on test images: 55.25 %\n",
            "Test time elapsed:  0.042157649993896484 seconds\n"
          ]
        }
      ]
    },
    {
      "cell_type": "markdown",
      "source": [
        "## [***Report on Network Layout***]\n",
        "\n",
        "# **Data Pre-processing** \n",
        "\n",
        "**Data Augmentation**: \n",
        "\n",
        "To generate 2400 more images to add to the existing amount of training images, I performed data augmentation where each training image (not testing images) was horizontally mirrored/flipped.\n",
        "\n",
        "**Data Normalization**: \n",
        "\n",
        "To normalize the images in both training and testing datasets, I subtracted the mean of all images from each image to zero-center each image. \n",
        "\n",
        "# **CNN Architecture:**\n",
        "\n",
        "Layer 1: Convolution 1 (conv1): 1 input, 32 output, 3x3 kernel, 1px stride, 1ps padding\n",
        "\n",
        "Layer 2: ReLU 1 (relu1)\n",
        "\n",
        "Layer 3: Convolution 1 (conv1): 32 input, 64 output, 3x3 kernel, 1px stride, 1ps padding\n",
        "\n",
        "Layer 4: RelU 2(relu2)\n",
        "\n",
        "Layer 5: Max Pooling 1 (pool1): 2x2 kernel, 2px stride, 0px padding\n",
        "\n",
        "Layer 6: Dropout (d_out): 0.5 dropout rate\n",
        "\n",
        "Layer 7: Convolution 3 (conv3): 64 input, 16 output, 3x3 kernels, 1px stride, 1px padding\n",
        "\n",
        "Layer 8: ReLU 3 (relu3)\n",
        "\n",
        "Layer 9: Max Pooling 2 (pool2): 2x2 kernel, 2px stride, 0px padding\n",
        "\n",
        "**Fully connected Layers**\n",
        "\n",
        "1. fc1: in=4096, out=64, bias=True\n",
        "2. fc2: in=64, out=32, bias=True\n",
        "3. fc3: in=32, out=16, bias=True\n",
        "\n",
        "**Hyperparameters**\n",
        "\n",
        "1. Optimizer: Adam\n",
        "2. Loss Function: Cross-Entropy\n",
        "3. Number of Epochs: 30\n",
        "4. Learning Rate: 0.001\n",
        "\n",
        "**Overall Performance**\n",
        "\n",
        "Total Training time: ~34 seconds\n",
        "\n",
        "Test time: ~0.05 seconds\n",
        "\n",
        "Accuracy of Model: ~55%\n",
        "\n",
        "\n"
      ],
      "metadata": {
        "id": "9RWbZVoqDYSW"
      }
    },
    {
      "cell_type": "markdown",
      "metadata": {
        "id": "dt8uBNtNRTMS"
      },
      "source": [
        "## Part2\n",
        "List each of the techniques you used and the performances after using these techniques\n",
        "<br> Please clearly indicate the techniques you use in the text blocks"
      ]
    },
    {
      "cell_type": "markdown",
      "source": [
        "## Technique 1: Batch normalization\n",
        "\n",
        "To ensure that intermediate layers do not depend too much on preceding layers, we can perform batch normalizaition where I added batch normalization layers after 2nd, 3rd, and 2nd fully connected layers."
      ],
      "metadata": {
        "id": "5xapgMQ8Kmk_"
      }
    },
    {
      "cell_type": "code",
      "metadata": {
        "id": "qpfw5zeqRSuE",
        "colab": {
          "base_uri": "https://localhost:8080/"
        },
        "outputId": "030533d1-d5ce-4417-b9a8-babd1bfc2489"
      },
      "source": [
        "# ==========================================\n",
        "#       Technique1: Batch normalization\n",
        "# ==========================================\n",
        "class ClassifierNetworkBatchNorm(nn.Module):\n",
        "\n",
        "    def __init__(self, num_classes, d_out):\n",
        "      super(ClassifierNetworkBatchNorm, self).__init__()\n",
        "      # Convolution\n",
        "      self.conv1 = nn.Conv2d(1, 32, kernel_size=3, stride=1, padding=1)\n",
        "      self.relu1 = nn.ReLU()\n",
        "      self.conv2 = nn.Conv2d(32, 64, kernel_size=3, stride=1, padding=1)\n",
        "      self.conv2_bn = nn.BatchNorm2d(64) ##\n",
        "      self.relu2 = nn.ReLU()\n",
        "      self.pool1 = torch.nn.MaxPool2d(kernel_size=2, stride=2, padding=0)\n",
        "      self.d_out = nn.Dropout(d_out)\n",
        "      self.conv3 = nn.Conv2d(64, 16, kernel_size=3, stride=1, padding=1)\n",
        "      self.conv3_bn = nn.BatchNorm2d(16) ##\n",
        "      self.relu3 = nn.ReLU()\n",
        "      self.pool2 = torch.nn.MaxPool2d(kernel_size=2, stride=2, padding=0)\n",
        "      # Fully Connected Layers\n",
        "      self.fc1 = nn.Linear(16 * 16 * 16, 64)\n",
        "      self.fc2 = nn.Linear(64, 32)\n",
        "      self.fc2_bn = nn.BatchNorm1d(32) ###\n",
        "      self.fc3 = nn.Linear(32, 16)\n",
        "\n",
        "    def forward(self, x):\n",
        "      y = self.conv1(x)\n",
        "      y = self.relu1(y)\n",
        "      y = self.conv2(y)\n",
        "      y = self.conv2_bn(y)\n",
        "      y = self.relu2(y)\n",
        "      y = self.pool1(y)\n",
        "      y = self.d_out(y)\n",
        "      y = self.conv3(y)\n",
        "      y = self.conv3_bn(y)\n",
        "      y = self.relu3(y)\n",
        "      y = self.pool2(y)\n",
        "      y = y.view(y.size(0), -1)\n",
        "      y = self.fc1(y)\n",
        "      y = self.fc2(y)\n",
        "      y = self.fc2_bn(y)\n",
        "      y = self.fc3(y)\n",
        "      return y\n",
        "\n",
        "bn_model = ClassifierNetworkBatchNorm(num_classes, d_out)\n",
        "train(10, learning_rate, bn_model, trainloader_small)\n",
        "test(bn_model, testloader_small)\n"
      ],
      "execution_count": null,
      "outputs": [
        {
          "output_type": "stream",
          "name": "stdout",
          "text": [
            "ClassifierNetworkBatchNorm(\n",
            "  (conv1): Conv2d(1, 32, kernel_size=(3, 3), stride=(1, 1), padding=(1, 1))\n",
            "  (relu1): ReLU()\n",
            "  (conv2): Conv2d(32, 64, kernel_size=(3, 3), stride=(1, 1), padding=(1, 1))\n",
            "  (conv2_bn): BatchNorm2d(64, eps=1e-05, momentum=0.1, affine=True, track_running_stats=True)\n",
            "  (relu2): ReLU()\n",
            "  (pool1): MaxPool2d(kernel_size=2, stride=2, padding=0, dilation=1, ceil_mode=False)\n",
            "  (d_out): Dropout(p=0.5, inplace=False)\n",
            "  (conv3): Conv2d(64, 16, kernel_size=(3, 3), stride=(1, 1), padding=(1, 1))\n",
            "  (conv3_bn): BatchNorm2d(16, eps=1e-05, momentum=0.1, affine=True, track_running_stats=True)\n",
            "  (relu3): ReLU()\n",
            "  (pool2): MaxPool2d(kernel_size=2, stride=2, padding=0, dilation=1, ceil_mode=False)\n",
            "  (fc1): Linear(in_features=4096, out_features=64, bias=True)\n",
            "  (fc2): Linear(in_features=64, out_features=32, bias=True)\n",
            "  (fc2_bn): BatchNorm1d(32, eps=1e-05, momentum=0.1, affine=True, track_running_stats=True)\n",
            "  (fc3): Linear(in_features=32, out_features=16, bias=True)\n",
            ")\n",
            "96\n",
            "Epoch (1/10), Loss: 1.7851, Accuracy: 44.00%\n",
            "Epoch (2/10), Loss: 1.0836, Accuracy: 78.00%\n",
            "Epoch (3/10), Loss: 0.7458, Accuracy: 86.00%\n",
            "Epoch (4/10), Loss: 0.4089, Accuracy: 98.00%\n",
            "Epoch (5/10), Loss: 0.3079, Accuracy: 98.00%\n",
            "Epoch (6/10), Loss: 0.2521, Accuracy: 98.00%\n",
            "Epoch (7/10), Loss: 0.1455, Accuracy: 98.00%\n",
            "Epoch (8/10), Loss: 0.0792, Accuracy: 100.00%\n",
            "Epoch (9/10), Loss: 0.0823, Accuracy: 98.00%\n",
            "Epoch (10/10), Loss: 0.0443, Accuracy: 100.00%\n",
            "Train time elapsed:  18.32388710975647 seconds\n",
            "Test Accuracy on test images: 46.25 %\n",
            "Test time elapsed:  0.04602646827697754 seconds\n"
          ]
        }
      ]
    },
    {
      "cell_type": "markdown",
      "source": [
        "***Performance evaluation for techinque 1***\n",
        "\n",
        "Training time: ~20 seconds\n",
        "\n",
        "Testing time: ~0.05 seconds\n",
        "\n",
        "Accuracy: ~ 57%\n",
        "\n",
        "\n",
        "Because the accuracy reach about 100% at the 10th epoch, I lowered the number of epochs to 10. The accuracy increased for about 2% with this technique."
      ],
      "metadata": {
        "id": "RrWOYpJWLK1Q"
      }
    },
    {
      "cell_type": "markdown",
      "source": [
        "## Technique 2: Sigmoid as Activation Function\n",
        "\n",
        "This techinque tries to use Sigmoid as activation function instead of rectified linear units."
      ],
      "metadata": {
        "id": "WAwT2eaeLrh1"
      }
    },
    {
      "cell_type": "code",
      "metadata": {
        "id": "Vh1j5bXaRsYL",
        "colab": {
          "base_uri": "https://localhost:8080/"
        },
        "outputId": "6323e935-0e1c-4e3f-f389-2b9fe3cbee77"
      },
      "source": [
        "# ==========================================\n",
        "#       Technique2: sigmoid\n",
        "# ==========================================\n",
        "class ClassifierNetworkSigmoid(nn.Module):\n",
        "\n",
        "    def __init__(self, num_classes, d_out):\n",
        "      super(ClassifierNetworkSigmoid, self).__init__()\n",
        "        \n",
        "      # Convolution\n",
        "      self.conv1 = nn.Conv2d(1, 32, kernel_size=3, stride=1, padding=1)\n",
        "      self.sigm1 = nn.Sigmoid()\n",
        "      self.conv2 = nn.Conv2d(32, 64, kernel_size=3, stride=1, padding=1)\n",
        "      self.sigm2 = nn.Sigmoid()\n",
        "      self.pool1 = torch.nn.MaxPool2d(kernel_size=2, stride=2, padding=0)\n",
        "      self.d_out = nn.Dropout(d_out)\n",
        "      self.conv3 = nn.Conv2d(64, 16, kernel_size=3, stride=1, padding=1)\n",
        "      self.sigm3 = nn.Sigmoid()\n",
        "      self.pool2 = torch.nn.MaxPool2d(kernel_size=2, stride=2, padding=0)\n",
        "\n",
        "      # Fully Connected Layers\n",
        "      self.fc1 = nn.Linear(16 * 16 * 16, 64)\n",
        "      self.fc2 = nn.Linear(64, 32)\n",
        "      self.fc3 = nn.Linear(32, 16)\n",
        "\n",
        "    def forward(self, x):\n",
        "      y = self.conv1(x)\n",
        "      y = self.sigm1(y)\n",
        "      y = self.conv2(y)\n",
        "      y = self.sigm2(y)\n",
        "      y = self.pool1(y)\n",
        "      y = self.d_out(y)\n",
        "      y = self.conv3(y)\n",
        "      y = self.sigm3(y)\n",
        "      y = self.pool2(y)\n",
        "      y = y.view(y.size(0), -1)\n",
        "      y = self.fc1(y)\n",
        "      y = self.fc2(y)\n",
        "      y = self.fc3(y)\n",
        "      return y\n",
        "\n",
        "sigm_model = ClassifierNetworkSigmoid(num_classes, d_out)\n",
        "train(30, learning_rate, sigm_model, trainloader_small)"
      ],
      "execution_count": null,
      "outputs": [
        {
          "output_type": "stream",
          "name": "stdout",
          "text": [
            "ClassifierNetworkSigmoid(\n",
            "  (conv1): Conv2d(1, 32, kernel_size=(3, 3), stride=(1, 1), padding=(1, 1))\n",
            "  (sigm1): Sigmoid()\n",
            "  (conv2): Conv2d(32, 64, kernel_size=(3, 3), stride=(1, 1), padding=(1, 1))\n",
            "  (sigm2): Sigmoid()\n",
            "  (pool1): MaxPool2d(kernel_size=2, stride=2, padding=0, dilation=1, ceil_mode=False)\n",
            "  (d_out): Dropout(p=0.5, inplace=False)\n",
            "  (conv3): Conv2d(64, 16, kernel_size=(3, 3), stride=(1, 1), padding=(1, 1))\n",
            "  (sigm3): Sigmoid()\n",
            "  (pool2): MaxPool2d(kernel_size=2, stride=2, padding=0, dilation=1, ceil_mode=False)\n",
            "  (fc1): Linear(in_features=4096, out_features=64, bias=True)\n",
            "  (fc2): Linear(in_features=64, out_features=32, bias=True)\n",
            "  (fc3): Linear(in_features=32, out_features=16, bias=True)\n",
            ")\n",
            "96\n",
            "Epoch (1/30), Loss: 2.8012, Accuracy: 0.00%\n",
            "Epoch (2/30), Loss: 2.7919, Accuracy: 0.00%\n",
            "Epoch (3/30), Loss: 2.7856, Accuracy: 0.00%\n",
            "Epoch (4/30), Loss: 2.7814, Accuracy: 0.00%\n",
            "Epoch (5/30), Loss: 2.7787, Accuracy: 0.00%\n",
            "Epoch (6/30), Loss: 2.7767, Accuracy: 0.00%\n",
            "Epoch (7/30), Loss: 2.7507, Accuracy: 8.00%\n",
            "Epoch (8/30), Loss: 2.5082, Accuracy: 22.00%\n",
            "Epoch (9/30), Loss: 2.4165, Accuracy: 26.00%\n",
            "Epoch (10/30), Loss: 2.3570, Accuracy: 34.00%\n",
            "Epoch (11/30), Loss: 2.2979, Accuracy: 34.00%\n",
            "Epoch (12/30), Loss: 2.2355, Accuracy: 32.00%\n",
            "Epoch (13/30), Loss: 2.1199, Accuracy: 36.00%\n",
            "Epoch (14/30), Loss: 2.0878, Accuracy: 38.00%\n",
            "Epoch (15/30), Loss: 1.7576, Accuracy: 42.00%\n",
            "Epoch (16/30), Loss: 1.6619, Accuracy: 42.00%\n",
            "Epoch (17/30), Loss: 1.4416, Accuracy: 52.00%\n",
            "Epoch (18/30), Loss: 1.3273, Accuracy: 60.00%\n",
            "Epoch (19/30), Loss: 1.2082, Accuracy: 64.00%\n",
            "Epoch (20/30), Loss: 0.9544, Accuracy: 76.00%\n",
            "Epoch (21/30), Loss: 0.9187, Accuracy: 74.00%\n",
            "Epoch (22/30), Loss: 0.8645, Accuracy: 78.00%\n",
            "Epoch (23/30), Loss: 0.8901, Accuracy: 70.00%\n",
            "Epoch (24/30), Loss: 0.9073, Accuracy: 66.00%\n",
            "Epoch (25/30), Loss: 0.4492, Accuracy: 88.00%\n",
            "Epoch (26/30), Loss: 0.5888, Accuracy: 82.00%\n",
            "Epoch (27/30), Loss: 0.4507, Accuracy: 88.00%\n",
            "Epoch (28/30), Loss: 0.3927, Accuracy: 88.00%\n",
            "Epoch (29/30), Loss: 0.4125, Accuracy: 86.00%\n",
            "Epoch (30/30), Loss: 0.3823, Accuracy: 86.00%\n",
            "Train time elapsed:  47.736191749572754 seconds\n"
          ]
        }
      ]
    },
    {
      "cell_type": "code",
      "source": [
        "test(sigm_model, testloader_small)"
      ],
      "metadata": {
        "colab": {
          "base_uri": "https://localhost:8080/"
        },
        "id": "h2tXqbuSMWRI",
        "outputId": "de74537d-7a16-47f6-aabb-35652c82c9b8"
      },
      "execution_count": null,
      "outputs": [
        {
          "output_type": "stream",
          "name": "stdout",
          "text": [
            "Test Accuracy on test images: 47.75 %\n",
            "Test time elapsed:  0.04191875457763672 seconds\n"
          ]
        }
      ]
    },
    {
      "cell_type": "markdown",
      "source": [
        "***Performance evaluation for techinque 2***\n",
        "\n",
        "Training time: ~52 seconds\n",
        "\n",
        "Testing time: ~0.05 seconds\n",
        "\n",
        "Accuracy: ~ 40%\n",
        "\n",
        "\n",
        "Because the accuracy did not reach about 100% at the 20th epoch, I increased the number of epochs to 30."
      ],
      "metadata": {
        "id": "NQzaz-xqMNO2"
      }
    },
    {
      "cell_type": "markdown",
      "source": [
        "## Technique 3: Adding more Augmented Data\n",
        "\n",
        "if we add more augmented data by rotating the images by 90 degrees counterclockwise, this should increase performance accuracy."
      ],
      "metadata": {
        "id": "7hyczdrGM2qD"
      }
    },
    {
      "cell_type": "code",
      "metadata": {
        "id": "7LOHvBzORt6N",
        "colab": {
          "base_uri": "https://localhost:8080/"
        },
        "outputId": "446dbf9d-ff21-4b44-b3df-8480e19826dc"
      },
      "source": [
        "# ==========================================\n",
        "#       Technique3: augment data\n",
        "# ==========================================\n",
        "\n",
        "img_size = (64, 64)\n",
        "batch_num = 50\n",
        "\n",
        "trainloader_small_rot = list(load_dataset('./data/train/', img_size, batch_num=batch_num, shuffle=True, \n",
        "                                      augment=True, rotate_90=True, zero_centered=True))\n",
        "train_num = len(trainloader_small)\n",
        "print(\"Finish loading %d minibatches(=%d) of training samples.\" % (train_num, batch_num))"
      ],
      "execution_count": null,
      "outputs": [
        {
          "output_type": "stream",
          "name": "stdout",
          "text": [
            "Loading images from class: 0\n",
            "Loading images from class: 1\n",
            "Loading images from class: 2\n",
            "Loading images from class: 3\n",
            "Loading images from class: 4\n",
            "Loading images from class: 5\n",
            "Loading images from class: 6\n",
            "Loading images from class: 7\n",
            "Loading images from class: 8\n",
            "Loading images from class: 9\n",
            "Loading images from class: 10\n",
            "Loading images from class: 11\n",
            "Loading images from class: 12\n",
            "Loading images from class: 13\n",
            "Loading images from class: 14\n",
            "Loading images from class: 15\n",
            "Data Augmentation by mirroring!\n",
            "Rotation by 90 degreed counter-clockwise!\n",
            "9600\n",
            "50\n",
            "Finish loading 96 minibatches(=50) of training samples.\n"
          ]
        }
      ]
    },
    {
      "cell_type": "code",
      "source": [
        "rot_model = ClassifierNetwork(num_classes, d_out)\n",
        "train(num_epochs, learning_rate, rot_model, trainloader_small_rot)\n",
        "test(rot_model, testloader_small)"
      ],
      "metadata": {
        "colab": {
          "base_uri": "https://localhost:8080/"
        },
        "id": "SQFoPBS6Nkv9",
        "outputId": "5448685c-0428-43d6-9fc5-1392fb1fb26d"
      },
      "execution_count": null,
      "outputs": [
        {
          "output_type": "stream",
          "name": "stdout",
          "text": [
            "ClassifierNetwork(\n",
            "  (conv1): Conv2d(1, 32, kernel_size=(3, 3), stride=(1, 1), padding=(1, 1))\n",
            "  (relu1): ReLU()\n",
            "  (conv2): Conv2d(32, 64, kernel_size=(3, 3), stride=(1, 1), padding=(1, 1))\n",
            "  (relu2): ReLU()\n",
            "  (pool1): MaxPool2d(kernel_size=2, stride=2, padding=0, dilation=1, ceil_mode=False)\n",
            "  (d_out): Dropout(p=0.5, inplace=False)\n",
            "  (conv3): Conv2d(64, 16, kernel_size=(3, 3), stride=(1, 1), padding=(1, 1))\n",
            "  (relu3): ReLU()\n",
            "  (pool2): MaxPool2d(kernel_size=2, stride=2, padding=0, dilation=1, ceil_mode=False)\n",
            "  (fc1): Linear(in_features=4096, out_features=64, bias=True)\n",
            "  (fc2): Linear(in_features=64, out_features=32, bias=True)\n",
            "  (fc3): Linear(in_features=32, out_features=16, bias=True)\n",
            ")\n",
            "192\n",
            "Epoch (1/20), Loss: 2.1334, Accuracy: 28.00%\n",
            "Epoch (2/20), Loss: 1.6871, Accuracy: 40.00%\n",
            "Epoch (3/20), Loss: 1.2418, Accuracy: 56.00%\n",
            "Epoch (4/20), Loss: 1.1382, Accuracy: 62.00%\n",
            "Epoch (5/20), Loss: 0.9394, Accuracy: 72.00%\n",
            "Epoch (6/20), Loss: 0.7421, Accuracy: 76.00%\n",
            "Epoch (7/20), Loss: 0.6459, Accuracy: 76.00%\n",
            "Epoch (8/20), Loss: 0.6140, Accuracy: 78.00%\n",
            "Epoch (9/20), Loss: 0.5848, Accuracy: 76.00%\n",
            "Epoch (10/20), Loss: 0.6246, Accuracy: 74.00%\n",
            "Epoch (11/20), Loss: 0.5147, Accuracy: 78.00%\n",
            "Epoch (12/20), Loss: 0.4043, Accuracy: 84.00%\n",
            "Epoch (13/20), Loss: 0.4755, Accuracy: 84.00%\n",
            "Epoch (14/20), Loss: 0.4245, Accuracy: 82.00%\n",
            "Epoch (15/20), Loss: 0.2969, Accuracy: 94.00%\n",
            "Epoch (16/20), Loss: 0.4856, Accuracy: 82.00%\n",
            "Epoch (17/20), Loss: 0.2415, Accuracy: 90.00%\n",
            "Epoch (18/20), Loss: 0.2548, Accuracy: 88.00%\n",
            "Epoch (19/20), Loss: 0.1432, Accuracy: 96.00%\n",
            "Epoch (20/20), Loss: 0.2233, Accuracy: 94.00%\n",
            "Train time elapsed:  63.54485487937927 seconds\n",
            "Test Accuracy on test images: 47.75 %\n",
            "Test time elapsed:  0.04137730598449707 seconds\n"
          ]
        }
      ]
    },
    {
      "cell_type": "markdown",
      "source": [
        "***Performance evaluation for techinque 3***\n",
        "\n",
        "Training time: ~64 seconds\n",
        "\n",
        "Testing time: ~0.05 seconds\n",
        "\n",
        "Accuracy: ~ 48%\n",
        "\n",
        "\n",
        "Because the accuracy reach about did not reach 100% at the 20th epoch, the accuracy of the technique should still be improved by increasing the number of epochs."
      ],
      "metadata": {
        "id": "bBQt4awJNwVx"
      }
    },
    {
      "cell_type": "markdown",
      "metadata": {
        "collapsed": true,
        "id": "nBHKIxzAYYM2"
      },
      "source": [
        "# Problem 2: Fine Tuning a Pre-Trained Deep Network\n",
        "{Part 1: 30 points} Our convolutional network to this point isn't \"deep\". Fortunately, the representations learned by deep convolutional networks is that they generalize surprisingly well to other recognition tasks. \n",
        "\n",
        "But how do we use an existing deep network for a new recognition task? Take for instance,  [AlexNet](http://papers.nips.cc/paper/4824-imagenet-classification-with-deep-convolutional-neural-networks) network has 1000 units in the final layer corresponding to 1000 ImageNet categories.\n",
        "\n",
        "**Strategy A**: One could use those 1000 activations as a feature in place of a hand crafted feature such as a bag-of-features representation. You would train a classifier (typically a linear SVM) in that 1000 dimensional feature space. However, those activations are clearly very object specific and may not generalize well to new recognition tasks. It is generally better to use the activations in slightly earlier layers of the network, e.g. the 4096 activations in the last 2nd fully-connected layer. You can often get away with sub-sampling those 4096 activations considerably, e.g. taking only the first 200 activations. \n",
        "\n",
        "**Strategy B**: *Fine-tune* an existing network. In this scenario you take an existing network, replace the final layer (or more) with random weights, and train the entire network again with images and ground truth labels for your recognition task. You are effectively treating the pre-trained deep network as a better initialization than the random weights used when training from scratch. When you don't have enough training data to train a complex network from scratch (e.g. with the 16 classes) this is an attractive option. Fine-tuning can work far better than Strategy A of taking the activations directly from an pre-trained CNN. For example, in [this paper](http://www.cc.gatech.edu/~hays/papers/deep_geo.pdf) from CVPR 2015, there wasn't enough data to train a deep network from scratch, but fine tuning led to 4 times higher accuracy than using off-the-shelf networks directly.\n",
        "\n",
        "You are required to implement **Strategy B** to fine-tune a pre-trained **AlexNet** for this scene classification task. You should be able to achieve performance of 85% approximately. It takes roughly 35~40 minutes to train 20 epoches with AlexNet.\n",
        "\n",
        "Please provide detailed descriptions of:<br>\n",
        "(1) which layers of AlexNet have been replaced<br>\n",
        "(2) the architecture of the new layers added including activation methods (same as problem 1)<br>\n",
        "(3) the final accuracy on test set along with time consumption for both training and testing <br>\n",
        "\n",
        "{Part 2: 20 points} Implement Strategy A where you use the activations of the pre-trained network as features to train one-vs-all SVMs for your scene classification task. Report the final accuracy on test set along with time consumption for both training and testing.\n",
        "\n",
        "{Bonus: 10 points} Bonus will be given to those who fine-tune the [VGG network](https://pytorch.org/docs/stable/_modules/torchvision/models/vgg.html) [paper](https://arxiv.org/pdf/1409.1556.pdf) and compare performance with AlexNet. Explain why VGG performed better or worse.\n",
        "\n",
        "**Hints**:\n",
        "- Many pre-trained models are available in PyTorch at [here](http://pytorch.org/docs/master/torchvision/models.html).\n",
        "- For fine-tuning pretrained network using PyTorch, please read this [tutorial](http://pytorch.org/tutorials/beginner/transfer_learning_tutorial.html)."
      ]
    },
    {
      "cell_type": "code",
      "metadata": {
        "id": "VLG3WtEmYYM3",
        "colab": {
          "base_uri": "https://localhost:8080/"
        },
        "outputId": "a6bf1f0d-3e8d-4d0c-c125-fbbd10bce562"
      },
      "source": [
        "# reload data with a larger size\n",
        "img_size = (224, 224)\n",
        "batch_num = 50 # training sample number per batch \n",
        "\n",
        "# load training dataset\n",
        "trainloader_large = list(load_dataset('./data/train/', img_size, batch_num=batch_num, shuffle=True, \n",
        "                                      augment=False, is_color=True, zero_centered=True))\n",
        "train_num = len(trainloader_large)\n",
        "print(\"Finish loading %d minibatches(=%d) of training samples.\" % (train_num, batch_num))\n",
        "\n",
        "# load testing dataset\n",
        "testloader_large = list(load_dataset('./data/test/', img_size, num_per_class=50, batch_num=batch_num, is_color=True))\n",
        "test_num = len(testloader_large)\n",
        "print(\"Finish loading %d minibatches(=%d) of testing samples.\" % (test_num, batch_num))"
      ],
      "execution_count": null,
      "outputs": [
        {
          "output_type": "stream",
          "name": "stdout",
          "text": [
            "Loading images from class: 0\n",
            "Loading images from class: 1\n",
            "Loading images from class: 2\n",
            "Loading images from class: 3\n",
            "Loading images from class: 4\n",
            "Loading images from class: 5\n",
            "Loading images from class: 6\n",
            "Loading images from class: 7\n",
            "Loading images from class: 8\n",
            "Loading images from class: 9\n",
            "Loading images from class: 10\n",
            "Loading images from class: 11\n",
            "Loading images from class: 12\n",
            "Loading images from class: 13\n",
            "Loading images from class: 14\n",
            "Loading images from class: 15\n",
            "2400\n",
            "50\n",
            "Finish loading 48 minibatches(=50) of training samples.\n",
            "Loading images from class: 0\n",
            "Loading images from class: 1\n",
            "Loading images from class: 2\n",
            "Loading images from class: 3\n",
            "Loading images from class: 4\n",
            "Loading images from class: 5\n",
            "Loading images from class: 6\n",
            "Loading images from class: 7\n",
            "Loading images from class: 8\n",
            "Loading images from class: 9\n",
            "Loading images from class: 10\n",
            "Loading images from class: 11\n",
            "Loading images from class: 12\n",
            "Loading images from class: 13\n",
            "Loading images from class: 14\n",
            "Loading images from class: 15\n",
            "400\n",
            "50\n",
            "Finish loading 8 minibatches(=50) of testing samples.\n"
          ]
        }
      ]
    },
    {
      "cell_type": "markdown",
      "source": [
        "## Fine tuning Alexnet\n",
        "\n",
        "I changed the output features of alexnet from 1000 to 16, and that is the only change made to AlexNet."
      ],
      "metadata": {
        "id": "hitbnBakPh88"
      }
    },
    {
      "cell_type": "markdown",
      "source": [
        "## Strategy B"
      ],
      "metadata": {
        "id": "5pt6Jq0cS7Yk"
      }
    },
    {
      "cell_type": "code",
      "metadata": {
        "id": "btOal_ampEnm",
        "colab": {
          "base_uri": "https://localhost:8080/",
          "height": 1000,
          "referenced_widgets": [
            "bbc3e8b6cdc344b29d03fae0ee33c306",
            "2f68c481e453403db737d2d5ae06929f",
            "37994498333e41859cbd14c273ad327a",
            "74b3d9a195cc4bc8b28344007435e354",
            "7b2637a1f8364a69b99b2f695436d77c",
            "293f633ef0e84731bcb7dc4edea751af",
            "7b0cca8266a34102be9c6e92522c88f0",
            "a6ec23b9b663400aaa4f9486d32c7d40",
            "d931bb5318304742b6f038e6c4ba879b",
            "5586b9b3742a4ae1b543cd3ec3289fa6",
            "647048bf7532410dbad32333ba6678a9"
          ]
        },
        "outputId": "4df487dc-1e0d-4a2f-d539-a0c032a2725b"
      },
      "source": [
        "# ==========================================\n",
        "#       Fine-Tune Pretrained Network\n",
        "# ==========================================\n",
        "alexnet = models.alexnet(pretrained=True)\n",
        "alexnet.classifier[6] = nn.Linear(4096, 16)\n",
        "\n",
        "a_num_epochs = 20\n",
        "a_learning_rate = 0.0001\n",
        "\n",
        "train(a_num_epochs, a_learning_rate, alexnet, trainloader_large)\n",
        "test(alexnet, testloader_large)"
      ],
      "execution_count": null,
      "outputs": [
        {
          "output_type": "stream",
          "name": "stderr",
          "text": [
            "/usr/local/lib/python3.8/dist-packages/torchvision/models/_utils.py:208: UserWarning: The parameter 'pretrained' is deprecated since 0.13 and will be removed in 0.15, please use 'weights' instead.\n",
            "  warnings.warn(\n",
            "/usr/local/lib/python3.8/dist-packages/torchvision/models/_utils.py:223: UserWarning: Arguments other than a weight enum or `None` for 'weights' are deprecated since 0.13 and will be removed in 0.15. The current behavior is equivalent to passing `weights=AlexNet_Weights.IMAGENET1K_V1`. You can also use `weights=AlexNet_Weights.DEFAULT` to get the most up-to-date weights.\n",
            "  warnings.warn(msg)\n",
            "Downloading: \"https://download.pytorch.org/models/alexnet-owt-7be5be79.pth\" to /root/.cache/torch/hub/checkpoints/alexnet-owt-7be5be79.pth\n"
          ]
        },
        {
          "output_type": "display_data",
          "data": {
            "text/plain": [
              "  0%|          | 0.00/233M [00:00<?, ?B/s]"
            ],
            "application/vnd.jupyter.widget-view+json": {
              "version_major": 2,
              "version_minor": 0,
              "model_id": "bbc3e8b6cdc344b29d03fae0ee33c306"
            }
          },
          "metadata": {}
        },
        {
          "output_type": "stream",
          "name": "stdout",
          "text": [
            "AlexNet(\n",
            "  (features): Sequential(\n",
            "    (0): Conv2d(3, 64, kernel_size=(11, 11), stride=(4, 4), padding=(2, 2))\n",
            "    (1): ReLU(inplace=True)\n",
            "    (2): MaxPool2d(kernel_size=3, stride=2, padding=0, dilation=1, ceil_mode=False)\n",
            "    (3): Conv2d(64, 192, kernel_size=(5, 5), stride=(1, 1), padding=(2, 2))\n",
            "    (4): ReLU(inplace=True)\n",
            "    (5): MaxPool2d(kernel_size=3, stride=2, padding=0, dilation=1, ceil_mode=False)\n",
            "    (6): Conv2d(192, 384, kernel_size=(3, 3), stride=(1, 1), padding=(1, 1))\n",
            "    (7): ReLU(inplace=True)\n",
            "    (8): Conv2d(384, 256, kernel_size=(3, 3), stride=(1, 1), padding=(1, 1))\n",
            "    (9): ReLU(inplace=True)\n",
            "    (10): Conv2d(256, 256, kernel_size=(3, 3), stride=(1, 1), padding=(1, 1))\n",
            "    (11): ReLU(inplace=True)\n",
            "    (12): MaxPool2d(kernel_size=3, stride=2, padding=0, dilation=1, ceil_mode=False)\n",
            "  )\n",
            "  (avgpool): AdaptiveAvgPool2d(output_size=(6, 6))\n",
            "  (classifier): Sequential(\n",
            "    (0): Dropout(p=0.5, inplace=False)\n",
            "    (1): Linear(in_features=9216, out_features=4096, bias=True)\n",
            "    (2): ReLU(inplace=True)\n",
            "    (3): Dropout(p=0.5, inplace=False)\n",
            "    (4): Linear(in_features=4096, out_features=4096, bias=True)\n",
            "    (5): ReLU(inplace=True)\n",
            "    (6): Linear(in_features=4096, out_features=16, bias=True)\n",
            "  )\n",
            ")\n",
            "48\n",
            "Epoch (1/20), Loss: 0.3658, Accuracy: 90.00%\n",
            "Epoch (2/20), Loss: 0.2279, Accuracy: 92.00%\n",
            "Epoch (3/20), Loss: 0.0611, Accuracy: 98.00%\n",
            "Epoch (4/20), Loss: 0.0280, Accuracy: 98.00%\n",
            "Epoch (5/20), Loss: 0.0579, Accuracy: 96.00%\n",
            "Epoch (6/20), Loss: 0.0197, Accuracy: 100.00%\n",
            "Epoch (7/20), Loss: 0.0148, Accuracy: 100.00%\n",
            "Epoch (8/20), Loss: 0.0143, Accuracy: 100.00%\n",
            "Epoch (9/20), Loss: 0.0237, Accuracy: 100.00%\n",
            "Epoch (10/20), Loss: 0.0022, Accuracy: 100.00%\n",
            "Epoch (11/20), Loss: 0.0018, Accuracy: 100.00%\n",
            "Epoch (12/20), Loss: 0.0159, Accuracy: 100.00%\n",
            "Epoch (13/20), Loss: 0.0030, Accuracy: 100.00%\n",
            "Epoch (14/20), Loss: 0.0023, Accuracy: 100.00%\n",
            "Epoch (15/20), Loss: 0.0210, Accuracy: 100.00%\n",
            "Epoch (16/20), Loss: 0.0011, Accuracy: 100.00%\n",
            "Epoch (17/20), Loss: 0.0017, Accuracy: 100.00%\n",
            "Epoch (18/20), Loss: 0.0129, Accuracy: 100.00%\n",
            "Epoch (19/20), Loss: 0.0311, Accuracy: 98.00%\n",
            "Epoch (20/20), Loss: 0.0199, Accuracy: 100.00%\n",
            "Train time elapsed:  60.08154511451721 seconds\n",
            "Test Accuracy on test images: 86.0 %\n",
            "Test time elapsed:  0.1564173698425293 seconds\n"
          ]
        }
      ]
    },
    {
      "cell_type": "markdown",
      "source": [
        "***Result AlexNet architecture***\n",
        "\n",
        "Layer 1: Convolution 1 (conv1): 3 input, 64 output, 11x11 kernels, 4px stride, 2px padding\n",
        "\n",
        "Relu 1 (relu1)\n",
        "Max Pooling 1 (pool1): 3x3 kernel, 2px stride, 0px padding\n",
        "\n",
        "Layer 2: Convolution 2 (conv2): 64 input, 192 output, 5x5 kernels, 1px stride, 2px padding\n",
        "\n",
        "Relu 2 (relu2)\n",
        "\n",
        "Max Pooling 2 (pool2): 3x3 kernel, 2px stride, 0px padding\n",
        "\n",
        "Layer 3: Convolution 3 (conv3): 192 input, 384 output, 3x3 kernels, 1px stride, 1px padding\n",
        "\n",
        "Relu 3 (relu3)\n",
        "\n",
        "Layer 4: Convolution 4 (conv4): 384 input, 256 output, 3x3 kernels, 1px stride, 1px padding\n",
        "\n",
        "Relu 4 (relu4)\n",
        "\n",
        "Layer 5: Convolution 5 (conv3): 256 input, 256 output, 3x3 kernels, 1px stride, 1px padding\n",
        "\n",
        "Relu 5 (relu5)\n",
        "\n",
        "Max Pooling 3 (pool3): 3x3 kernel, 2px stride, 0px padding\n",
        "\n",
        "Layer 6: Adaptive Avg Pool (avgpool): output: 6x6\n",
        "\n",
        "Dropout (d_out): 0.5 dropout rate\n",
        "\n",
        "fc1: in_features=9216, out_features=4096\n",
        "\n",
        "Relu 6 (relu6)\n",
        "\n",
        "Dropout (d_out): 0.5 dropout rate\n",
        "fc2: in=4096, out=4096\n",
        "\n",
        "Relu 7 (relu7)\n",
        "\n",
        "fc3: in=4096, out=16"
      ],
      "metadata": {
        "id": "McXEzBJkQKQh"
      }
    },
    {
      "cell_type": "markdown",
      "source": [
        "**Performance Evaluation**\n",
        "\n",
        "Training time: ~63 seconds\n",
        "\n",
        "Testing time: ~0.17 seconds\n",
        "\n",
        "Accuracy: ~86%"
      ],
      "metadata": {
        "id": "Lx0ScBhuPw33"
      }
    },
    {
      "cell_type": "markdown",
      "source": [
        "## Strategy A"
      ],
      "metadata": {
        "id": "cZB1Fs3MRDau"
      }
    },
    {
      "cell_type": "code",
      "source": [
        "alexnet_ft = models.alexnet(pretrained=True)\n",
        "for param in alexnet_ft.parameters():\n",
        "    param.requires_grad = False"
      ],
      "metadata": {
        "id": "Hh2AjIDWRGIq"
      },
      "execution_count": null,
      "outputs": []
    },
    {
      "cell_type": "code",
      "source": [
        "def extract_features(model, num_features, image_batches):\n",
        "  model.eval()\n",
        "  if torch.cuda.is_available():\n",
        "      model = model.cuda()\n",
        "  x = []\n",
        "  y = []\n",
        "  for i, (images, labels) in enumerate(image_batches):\n",
        "    if torch.cuda.is_available():\n",
        "      images, labels = images.cuda(), labels.cuda()\n",
        "    outputs = model(images)\n",
        "    for index, output in enumerate(outputs):\n",
        "      x.append(np.array(output[:num_features].cpu().detach().numpy()))\n",
        "      y.append(labels[index].cpu().detach().numpy())\n",
        "  return np.array(x), np.array(y)\n",
        "\n",
        "\n",
        "num_features = 400\n",
        "X_train, y_train = extract_features(alexnet_ft, num_features, trainloader_large)\n",
        "print(len(X_train), len(y_train))\n",
        "\n",
        "X_test, y_test = extract_features(alexnet_ft, num_features, testloader_large)\n",
        "print(len(X_test), len(y_test))"
      ],
      "metadata": {
        "colab": {
          "base_uri": "https://localhost:8080/"
        },
        "id": "zEvLcn62RQih",
        "outputId": "b45f4656-7f9b-41d4-f51b-652750aa78ac"
      },
      "execution_count": null,
      "outputs": [
        {
          "output_type": "stream",
          "name": "stdout",
          "text": [
            "2400 2400\n",
            "400 400\n"
          ]
        }
      ]
    },
    {
      "cell_type": "code",
      "source": [
        "# Training linear SVC\n",
        "lin_clf = svm.LinearSVC(C=0.001)\n",
        "\n",
        "b = time.time()\n",
        "lin_clf.fit(X_train, y_train)\n",
        "e = time.time() - b\n",
        "print('Training time: ', e, 'seconds')"
      ],
      "metadata": {
        "colab": {
          "base_uri": "https://localhost:8080/"
        },
        "id": "Z7wGs2wERZBv",
        "outputId": "9af0397f-721e-4dfe-a0e6-d2c9c140e104"
      },
      "execution_count": null,
      "outputs": [
        {
          "output_type": "stream",
          "name": "stdout",
          "text": [
            "Training time:  0.8662738800048828 seconds\n"
          ]
        }
      ]
    },
    {
      "cell_type": "code",
      "source": [
        "# Testing on linear SVC\n",
        "# Using confusion matrix\n",
        "b = time.time()\n",
        "y_pred = lin_clf.predict(X_test)\n",
        "e = time.time() - b\n",
        "the_confusion_matrix = confusion_matrix(y_test, y_pred)\n",
        "print('Testing time: ', e, 'seconds')\n",
        "print('Accuracy is {}%'.format(accuracy_score(y_test, y_pred)*100))\n",
        "print(the_confusion_matrix)"
      ],
      "metadata": {
        "colab": {
          "base_uri": "https://localhost:8080/"
        },
        "id": "tCmgjc-SRfqu",
        "outputId": "2eb6b4c3-39a7-4d0e-9eb1-f2345798911a"
      },
      "execution_count": null,
      "outputs": [
        {
          "output_type": "stream",
          "name": "stdout",
          "text": [
            "Testing time:  0.004495859146118164 seconds\n",
            "Accuracy is 85.25%\n",
            "[[20  0  0  0  0  0  0  0  0  0  0  0  2  1  0  2]\n",
            " [ 0 17  4  0  0  0  0  3  0  0  1  0  0  0  0  0]\n",
            " [ 0  5 19  0  0  0  1  0  0  0  0  0  0  0  0  0]\n",
            " [ 0  0  0 22  0  0  1  2  0  0  0  0  0  0  0  0]\n",
            " [ 0  0  0  0 18  1  2  1  0  0  3  0  0  0  0  0]\n",
            " [ 0  0  0  0  0 25  0  0  0  0  0  0  0  0  0  0]\n",
            " [ 0  0  1  0  0  0 19  0  0  1  2  2  0  0  0  0]\n",
            " [ 0  4  2  0  0  0  0 18  0  0  1  0  0  0  0  0]\n",
            " [ 5  0  0  0  0  0  0  0 20  0  0  0  0  0  0  0]\n",
            " [ 0  0  0  0  0  0  0  0  0 24  0  1  0  0  0  0]\n",
            " [ 0  0  0  0  1  0  0  3  0  0 21  0  0  0  0  0]\n",
            " [ 0  0  0  0  1  0  2  0  0  0  0 22  0  0  0  0]\n",
            " [ 2  0  0  0  0  0  0  0  1  0  0  0 21  0  0  1]\n",
            " [ 0  0  0  0  0  0  0  0  0  0  0  0  0 25  0  0]\n",
            " [ 0  0  0  0  0  0  0  0  0  0  0  0  0  0 25  0]\n",
            " [ 0  0  0  0  0  0  0  0  0  0  0  0  0  0  0 25]]\n"
          ]
        }
      ]
    },
    {
      "cell_type": "markdown",
      "source": [
        "# Bonus: VGG"
      ],
      "metadata": {
        "id": "WOtbDtrtTP_Q"
      }
    },
    {
      "cell_type": "code",
      "source": [
        "vgg16 = models.vgg16(pretrained=True)\n",
        "vgg16.classifier[6] = nn.Linear(4096, 16)\n",
        "\n",
        "vgg16_num_epochs = 20\n",
        "vgg16_learning_rate = 0.0001\n",
        "\n",
        "train(vgg16_num_epochs, vgg16_learning_rate, vgg16, trainloader_large)\n",
        "test(vgg16, testloader_large)"
      ],
      "metadata": {
        "colab": {
          "base_uri": "https://localhost:8080/",
          "height": 1000,
          "referenced_widgets": [
            "398f2e232a4d4d4d8707c828a3e2a298",
            "d62a3df9e1ff417f883c3cfc3d0adeb4",
            "9e24db5d67db45d28bd60b338a3c0e3c",
            "2a119d11e5a643a39c0ee302a60346f0",
            "68c866d90c5342db8e4b6f77c75b3488",
            "db2969711e0246e9babb9d8b2369055f",
            "1291de78c0a148a3acce3200b34f4fb0",
            "da0f824d06ec4313838f4682983984c5",
            "b9be542209404e69a0a7ccbc3cb8d1a2",
            "6168475cb96941e8a78145a7b0898d7d",
            "07987cb5f744467884e219770904f1df"
          ]
        },
        "id": "Pb_kyCJuTOyL",
        "outputId": "65137709-4ea8-4d37-e921-bf281c154251"
      },
      "execution_count": null,
      "outputs": [
        {
          "output_type": "stream",
          "name": "stderr",
          "text": [
            "/usr/local/lib/python3.8/dist-packages/torchvision/models/_utils.py:208: UserWarning: The parameter 'pretrained' is deprecated since 0.13 and will be removed in 0.15, please use 'weights' instead.\n",
            "  warnings.warn(\n",
            "/usr/local/lib/python3.8/dist-packages/torchvision/models/_utils.py:223: UserWarning: Arguments other than a weight enum or `None` for 'weights' are deprecated since 0.13 and will be removed in 0.15. The current behavior is equivalent to passing `weights=VGG16_Weights.IMAGENET1K_V1`. You can also use `weights=VGG16_Weights.DEFAULT` to get the most up-to-date weights.\n",
            "  warnings.warn(msg)\n",
            "Downloading: \"https://download.pytorch.org/models/vgg16-397923af.pth\" to /root/.cache/torch/hub/checkpoints/vgg16-397923af.pth\n"
          ]
        },
        {
          "output_type": "display_data",
          "data": {
            "text/plain": [
              "  0%|          | 0.00/528M [00:00<?, ?B/s]"
            ],
            "application/vnd.jupyter.widget-view+json": {
              "version_major": 2,
              "version_minor": 0,
              "model_id": "398f2e232a4d4d4d8707c828a3e2a298"
            }
          },
          "metadata": {}
        },
        {
          "output_type": "stream",
          "name": "stdout",
          "text": [
            "VGG(\n",
            "  (features): Sequential(\n",
            "    (0): Conv2d(3, 64, kernel_size=(3, 3), stride=(1, 1), padding=(1, 1))\n",
            "    (1): ReLU(inplace=True)\n",
            "    (2): Conv2d(64, 64, kernel_size=(3, 3), stride=(1, 1), padding=(1, 1))\n",
            "    (3): ReLU(inplace=True)\n",
            "    (4): MaxPool2d(kernel_size=2, stride=2, padding=0, dilation=1, ceil_mode=False)\n",
            "    (5): Conv2d(64, 128, kernel_size=(3, 3), stride=(1, 1), padding=(1, 1))\n",
            "    (6): ReLU(inplace=True)\n",
            "    (7): Conv2d(128, 128, kernel_size=(3, 3), stride=(1, 1), padding=(1, 1))\n",
            "    (8): ReLU(inplace=True)\n",
            "    (9): MaxPool2d(kernel_size=2, stride=2, padding=0, dilation=1, ceil_mode=False)\n",
            "    (10): Conv2d(128, 256, kernel_size=(3, 3), stride=(1, 1), padding=(1, 1))\n",
            "    (11): ReLU(inplace=True)\n",
            "    (12): Conv2d(256, 256, kernel_size=(3, 3), stride=(1, 1), padding=(1, 1))\n",
            "    (13): ReLU(inplace=True)\n",
            "    (14): Conv2d(256, 256, kernel_size=(3, 3), stride=(1, 1), padding=(1, 1))\n",
            "    (15): ReLU(inplace=True)\n",
            "    (16): MaxPool2d(kernel_size=2, stride=2, padding=0, dilation=1, ceil_mode=False)\n",
            "    (17): Conv2d(256, 512, kernel_size=(3, 3), stride=(1, 1), padding=(1, 1))\n",
            "    (18): ReLU(inplace=True)\n",
            "    (19): Conv2d(512, 512, kernel_size=(3, 3), stride=(1, 1), padding=(1, 1))\n",
            "    (20): ReLU(inplace=True)\n",
            "    (21): Conv2d(512, 512, kernel_size=(3, 3), stride=(1, 1), padding=(1, 1))\n",
            "    (22): ReLU(inplace=True)\n",
            "    (23): MaxPool2d(kernel_size=2, stride=2, padding=0, dilation=1, ceil_mode=False)\n",
            "    (24): Conv2d(512, 512, kernel_size=(3, 3), stride=(1, 1), padding=(1, 1))\n",
            "    (25): ReLU(inplace=True)\n",
            "    (26): Conv2d(512, 512, kernel_size=(3, 3), stride=(1, 1), padding=(1, 1))\n",
            "    (27): ReLU(inplace=True)\n",
            "    (28): Conv2d(512, 512, kernel_size=(3, 3), stride=(1, 1), padding=(1, 1))\n",
            "    (29): ReLU(inplace=True)\n",
            "    (30): MaxPool2d(kernel_size=2, stride=2, padding=0, dilation=1, ceil_mode=False)\n",
            "  )\n",
            "  (avgpool): AdaptiveAvgPool2d(output_size=(7, 7))\n",
            "  (classifier): Sequential(\n",
            "    (0): Linear(in_features=25088, out_features=4096, bias=True)\n",
            "    (1): ReLU(inplace=True)\n",
            "    (2): Dropout(p=0.5, inplace=False)\n",
            "    (3): Linear(in_features=4096, out_features=4096, bias=True)\n",
            "    (4): ReLU(inplace=True)\n",
            "    (5): Dropout(p=0.5, inplace=False)\n",
            "    (6): Linear(in_features=4096, out_features=16, bias=True)\n",
            "  )\n",
            ")\n",
            "48\n",
            "Epoch (1/20), Loss: 0.3679, Accuracy: 84.00%\n",
            "Epoch (2/20), Loss: 0.3280, Accuracy: 84.00%\n",
            "Epoch (3/20), Loss: 0.0475, Accuracy: 100.00%\n",
            "Epoch (4/20), Loss: 0.0646, Accuracy: 98.00%\n",
            "Epoch (5/20), Loss: 0.0399, Accuracy: 100.00%\n",
            "Epoch (6/20), Loss: 0.0043, Accuracy: 100.00%\n",
            "Epoch (7/20), Loss: 0.0097, Accuracy: 100.00%\n",
            "Epoch (8/20), Loss: 0.0016, Accuracy: 100.00%\n",
            "Epoch (9/20), Loss: 0.0108, Accuracy: 100.00%\n",
            "Epoch (10/20), Loss: 0.0053, Accuracy: 100.00%\n",
            "Epoch (11/20), Loss: 0.0146, Accuracy: 98.00%\n",
            "Epoch (12/20), Loss: 0.0011, Accuracy: 100.00%\n",
            "Epoch (13/20), Loss: 0.0263, Accuracy: 98.00%\n",
            "Epoch (14/20), Loss: 0.0032, Accuracy: 100.00%\n",
            "Epoch (15/20), Loss: 0.0007, Accuracy: 100.00%\n",
            "Epoch (16/20), Loss: 0.0082, Accuracy: 100.00%\n",
            "Epoch (17/20), Loss: 0.0081, Accuracy: 100.00%\n",
            "Epoch (18/20), Loss: 0.0019, Accuracy: 100.00%\n",
            "Epoch (19/20), Loss: 0.0101, Accuracy: 100.00%\n",
            "Epoch (20/20), Loss: 0.0005, Accuracy: 100.00%\n",
            "Train time elapsed:  770.5768556594849 seconds\n",
            "Test Accuracy on test images: 92.0 %\n",
            "Test time elapsed:  2.2226216793060303 seconds\n"
          ]
        }
      ]
    },
    {
      "cell_type": "markdown",
      "source": [
        "***Performance Evaluation for VGG***\n",
        "\n",
        "Training time: ~771 seconds\n",
        "\n",
        "Testing time: ~2.3 seconds\n",
        "\n",
        "Accuracy: ~92%\n",
        "\n",
        "\n",
        "Since VGG is a much deeper network than AlexNet, so the training time takes longer but the accuracy inceases. Also VGG uses a 3x3 kernel size but AlexNet uses a 11x11 kernel size, so VGG performs more computations.\n",
        "\n",
        "As a result, AlexNet did better on training time, where it took around 63 seconds and VGG took around 771 seconds. The accuracy for VGG is better where it has an accuracy of 92%.\n",
        "\n"
      ],
      "metadata": {
        "id": "uz2xoh58TeVM"
      }
    },
    {
      "cell_type": "markdown",
      "metadata": {
        "id": "AYJOi8QYYYNG"
      },
      "source": [
        "<!--Write your report here in markdown or html-->\n"
      ]
    }
  ]
}